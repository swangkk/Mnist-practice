{
 "cells": [
  {
   "cell_type": "code",
   "execution_count": null,
   "metadata": {},
   "outputs": [],
   "source": [
    "import sys\n",
    "import tensorflow as tf\n",
    "import keras\n",
    "from keras.utils import np_utils\n",
    "from keras.datasets import mnist\n",
    "from keras.models import Sequential\n",
    "from keras.layers import Dense, Activation, Dropout, Flatten\n",
    "from keras.layers.convolutional import Conv2D, MaxPooling2D\n",
    "from tensorflow.keras import backend"
   ]
  },
  {
   "cell_type": "code",
   "execution_count": 2,
   "metadata": {},
   "outputs": [],
   "source": [
    "import pandas as pd\n",
    "import numpy as np"
   ]
  },
  {
   "cell_type": "code",
   "execution_count": 3,
   "metadata": {},
   "outputs": [],
   "source": [
    "#GPU 옵션\n",
    "config = tf.ConfigProto()\n",
    "config.gpu_options.allow_growth=True\n",
    "sess = tf.Session(config=config)"
   ]
  },
  {
   "cell_type": "code",
   "execution_count": 4,
   "metadata": {},
   "outputs": [],
   "source": [
    "(X_train, Y_train), (X_test, Y_test) = mnist.load_data()"
   ]
  },
  {
   "cell_type": "code",
   "execution_count": 5,
   "metadata": {},
   "outputs": [],
   "source": [
    "#X_train = X_train.reshape(60000, 784).astype('float32') / 255.0\n",
    "#X_test = X_test.reshape(10000, 784).astype('float32') / 255.0\n",
    "#Y_train = np_utils.to_categorical(Y_train)\n",
    "#Y_test = np_utils.to_categorical(Y_test)\n",
    "###"
   ]
  },
  {
   "cell_type": "code",
   "execution_count": 6,
   "metadata": {},
   "outputs": [
    {
     "name": "stdout",
     "output_type": "stream",
     "text": [
      "X_train shape: (60000, 28, 28, 1)\n",
      "60000 train samples\n",
      "10000 test samples\n"
     ]
    }
   ],
   "source": [
    "input_shape = (28, 28, 1)\n",
    "X_train = X_train.reshape(X_train.shape[0], 28, 28, 1)\n",
    "X_test = X_test.reshape(X_test.shape[0], 28, 28, 1)\n",
    "\n",
    "X_train = X_train.astype('float32') / 255.\n",
    "X_test = X_test.astype('float32') / 255.\n",
    "\n",
    "print('X_train shape:', X_train.shape)\n",
    "print(X_train.shape[0], 'train samples')\n",
    "print(X_test.shape[0], 'test samples')\n",
    "\n",
    "\n",
    "#num_classes = 10\n",
    "\n",
    "\n",
    "Y_train = keras.utils.to_categorical(Y_train, 10)\n",
    "Y_test = keras.utils.to_categorical(Y_test, 10)"
   ]
  },
  {
   "cell_type": "code",
   "execution_count": 7,
   "metadata": {},
   "outputs": [],
   "source": [
    "#input data 가시화\n",
    "df_data=mnist.load_data()\n"
   ]
  },
  {
   "cell_type": "code",
   "execution_count": 8,
   "metadata": {},
   "outputs": [
    {
     "name": "stdout",
     "output_type": "stream",
     "text": [
      "(60000, 28, 28, 1)\n",
      "(60000, 10)\n"
     ]
    }
   ],
   "source": [
    "print(X_train.shape)\n",
    "print(Y_train.shape)\n",
    "#Y_train.head()"
   ]
  },
  {
   "cell_type": "code",
   "execution_count": 9,
   "metadata": {},
   "outputs": [],
   "source": [
    "#model = Sequential()\n",
    "#model.add(Dense(units=64, input_dim=28*28, activation='relu'))\n",
    "#model.add(Dense(units=10, activation='softmax'))\n"
   ]
  },
  {
   "cell_type": "code",
   "execution_count": 11,
   "metadata": {},
   "outputs": [
    {
     "name": "stdout",
     "output_type": "stream",
     "text": [
      "_________________________________________________________________\n",
      "Layer (type)                 Output Shape              Param #   \n",
      "=================================================================\n",
      "conv2d_2 (Conv2D)            (None, 28, 28, 32)        832       \n",
      "_________________________________________________________________\n",
      "max_pooling2d_2 (MaxPooling2 (None, 14, 14, 32)        0         \n",
      "_________________________________________________________________\n",
      "conv2d_3 (Conv2D)            (None, 14, 14, 64)        8256      \n",
      "_________________________________________________________________\n",
      "max_pooling2d_3 (MaxPooling2 (None, 7, 7, 64)          0         \n",
      "_________________________________________________________________\n",
      "dropout_3 (Dropout)          (None, 7, 7, 64)          0         \n",
      "_________________________________________________________________\n",
      "flatten_2 (Flatten)          (None, 3136)              0         \n",
      "_________________________________________________________________\n",
      "dense_3 (Dense)              (None, 64)                200768    \n",
      "_________________________________________________________________\n",
      "dropout_4 (Dropout)          (None, 64)                0         \n",
      "_________________________________________________________________\n",
      "dense_4 (Dense)              (None, 10)                650       \n",
      "=================================================================\n",
      "Total params: 210,506\n",
      "Trainable params: 210,506\n",
      "Non-trainable params: 0\n",
      "_________________________________________________________________\n"
     ]
    }
   ],
   "source": [
    "#CNN 구현\n",
    "model = Sequential()\n",
    "model.add(Conv2D(32, kernel_size=(5, 5), strides=(1, 1), padding='same',\n",
    "                 activation='relu',\n",
    "                 input_shape=input_shape))\n",
    "model.add(MaxPooling2D(pool_size=(2, 2), strides=(2, 2)))\n",
    "model.add(Conv2D(64, (2, 2), activation='relu', padding='same'))\n",
    "model.add(MaxPooling2D(pool_size=(2, 2)))\n",
    "model.add(Dropout(0.25))\n",
    "model.add(Flatten())\n",
    "model.add(Dense(64, activation='relu'))\n",
    "model.add(Dropout(0.5))\n",
    "model.add(Dense(10, activation='softmax'))\n",
    "model.summary()"
   ]
  },
  {
   "cell_type": "code",
   "execution_count": 12,
   "metadata": {},
   "outputs": [],
   "source": [
    "#model.compile(loss='categorical_crossentropy', optimizer='sgd', metrics=['accuracy'])\n",
    "#model.fit(X_train, Y_train, epochs=5, batch_size=32)"
   ]
  },
  {
   "cell_type": "code",
   "execution_count": 13,
   "metadata": {},
   "outputs": [
    {
     "name": "stdout",
     "output_type": "stream",
     "text": [
      "WARNING:tensorflow:From C:\\Users\\YooSeok\\Anaconda3\\envs\\Keras\\lib\\site-packages\\tensorflow\\python\\ops\\math_ops.py:3066: to_int32 (from tensorflow.python.ops.math_ops) is deprecated and will be removed in a future version.\n",
      "Instructions for updating:\n",
      "Use tf.cast instead.\n",
      "Train on 60000 samples, validate on 10000 samples\n",
      "Epoch 1/50\n",
      "60000/60000 [==============================] - 5s 79us/step - loss: 0.4063 - acc: 0.8750 - val_loss: 0.0756 - val_acc: 0.9763\n",
      "Epoch 2/50\n",
      "60000/60000 [==============================] - 2s 42us/step - loss: 0.1545 - acc: 0.9543 - val_loss: 0.0545 - val_acc: 0.9820\n",
      "Epoch 3/50\n",
      "60000/60000 [==============================] - 3s 42us/step - loss: 0.1172 - acc: 0.9656 - val_loss: 0.0421 - val_acc: 0.9863\n",
      "Epoch 4/50\n",
      "60000/60000 [==============================] - 3s 42us/step - loss: 0.0985 - acc: 0.9711 - val_loss: 0.0349 - val_acc: 0.9893\n",
      "Epoch 5/50\n",
      "60000/60000 [==============================] - 3s 42us/step - loss: 0.0871 - acc: 0.9742 - val_loss: 0.0326 - val_acc: 0.9891\n",
      "Epoch 6/50\n",
      "60000/60000 [==============================] - 3s 42us/step - loss: 0.0782 - acc: 0.9767 - val_loss: 0.0291 - val_acc: 0.9899\n",
      "Epoch 7/50\n",
      "60000/60000 [==============================] - 2s 42us/step - loss: 0.0750 - acc: 0.9776 - val_loss: 0.0298 - val_acc: 0.9901\n",
      "Epoch 8/50\n",
      "60000/60000 [==============================] - 2s 41us/step - loss: 0.0680 - acc: 0.9797 - val_loss: 0.0293 - val_acc: 0.9904\n",
      "Epoch 9/50\n",
      "60000/60000 [==============================] - 3s 42us/step - loss: 0.0643 - acc: 0.9806 - val_loss: 0.0282 - val_acc: 0.9905\n",
      "Epoch 10/50\n",
      "60000/60000 [==============================] - 3s 42us/step - loss: 0.0601 - acc: 0.9818 - val_loss: 0.0251 - val_acc: 0.9916\n",
      "Epoch 11/50\n",
      "60000/60000 [==============================] - 3s 43us/step - loss: 0.0566 - acc: 0.9825 - val_loss: 0.0254 - val_acc: 0.9913\n",
      "Epoch 12/50\n",
      "60000/60000 [==============================] - 3s 42us/step - loss: 0.0524 - acc: 0.9841 - val_loss: 0.0287 - val_acc: 0.9913\n",
      "Epoch 13/50\n",
      "60000/60000 [==============================] - 2s 41us/step - loss: 0.0493 - acc: 0.9846 - val_loss: 0.0238 - val_acc: 0.9923\n",
      "Epoch 14/50\n",
      "60000/60000 [==============================] - 3s 42us/step - loss: 0.0467 - acc: 0.9856 - val_loss: 0.0228 - val_acc: 0.9923\n",
      "Epoch 15/50\n",
      "60000/60000 [==============================] - 3s 42us/step - loss: 0.0452 - acc: 0.9856 - val_loss: 0.0227 - val_acc: 0.9926\n",
      "Epoch 16/50\n",
      "60000/60000 [==============================] - 3s 42us/step - loss: 0.0410 - acc: 0.9871 - val_loss: 0.0244 - val_acc: 0.9932\n",
      "Epoch 17/50\n",
      "60000/60000 [==============================] - 3s 42us/step - loss: 0.0421 - acc: 0.9868 - val_loss: 0.0257 - val_acc: 0.9922\n",
      "Epoch 18/50\n",
      "60000/60000 [==============================] - 2s 42us/step - loss: 0.0416 - acc: 0.9873 - val_loss: 0.0209 - val_acc: 0.9934\n",
      "Epoch 19/50\n",
      "60000/60000 [==============================] - 3s 42us/step - loss: 0.0365 - acc: 0.9881 - val_loss: 0.0202 - val_acc: 0.9937\n",
      "Epoch 20/50\n",
      "60000/60000 [==============================] - 3s 42us/step - loss: 0.0377 - acc: 0.9881 - val_loss: 0.0231 - val_acc: 0.9929\n",
      "Epoch 21/50\n",
      "60000/60000 [==============================] - 2s 42us/step - loss: 0.0353 - acc: 0.9890 - val_loss: 0.0209 - val_acc: 0.9935\n",
      "Epoch 22/50\n",
      "60000/60000 [==============================] - 3s 42us/step - loss: 0.0342 - acc: 0.9888 - val_loss: 0.0208 - val_acc: 0.9937\n",
      "Epoch 23/50\n",
      "60000/60000 [==============================] - 3s 42us/step - loss: 0.0354 - acc: 0.9892 - val_loss: 0.0203 - val_acc: 0.9932\n",
      "Epoch 24/50\n",
      "60000/60000 [==============================] - 3s 42us/step - loss: 0.0326 - acc: 0.9893 - val_loss: 0.0237 - val_acc: 0.9929\n",
      "Epoch 25/50\n",
      "60000/60000 [==============================] - 2s 41us/step - loss: 0.0329 - acc: 0.9892 - val_loss: 0.0258 - val_acc: 0.9925\n",
      "Epoch 26/50\n",
      "60000/60000 [==============================] - 3s 42us/step - loss: 0.0308 - acc: 0.9899 - val_loss: 0.0227 - val_acc: 0.9938\n",
      "Epoch 27/50\n",
      "60000/60000 [==============================] - 2s 42us/step - loss: 0.0298 - acc: 0.9903 - val_loss: 0.0219 - val_acc: 0.9939\n",
      "Epoch 28/50\n",
      "60000/60000 [==============================] - 3s 42us/step - loss: 0.0312 - acc: 0.9897 - val_loss: 0.0216 - val_acc: 0.9938\n",
      "Epoch 29/50\n",
      "60000/60000 [==============================] - 2s 42us/step - loss: 0.0280 - acc: 0.9909 - val_loss: 0.0219 - val_acc: 0.9938\n",
      "Epoch 30/50\n",
      "60000/60000 [==============================] - 3s 42us/step - loss: 0.0295 - acc: 0.9902 - val_loss: 0.0228 - val_acc: 0.9927\n",
      "Epoch 31/50\n",
      "60000/60000 [==============================] - 3s 42us/step - loss: 0.0274 - acc: 0.9908 - val_loss: 0.0237 - val_acc: 0.9932\n",
      "Epoch 32/50\n",
      "60000/60000 [==============================] - 2s 41us/step - loss: 0.0263 - acc: 0.9917 - val_loss: 0.0207 - val_acc: 0.9938\n",
      "Epoch 33/50\n",
      "60000/60000 [==============================] - 2s 41us/step - loss: 0.0268 - acc: 0.9909 - val_loss: 0.0235 - val_acc: 0.9935\n",
      "Epoch 34/50\n",
      "60000/60000 [==============================] - 3s 42us/step - loss: 0.0253 - acc: 0.9917 - val_loss: 0.0219 - val_acc: 0.9938\n",
      "Epoch 35/50\n",
      "60000/60000 [==============================] - 2s 42us/step - loss: 0.0279 - acc: 0.9915 - val_loss: 0.0268 - val_acc: 0.9931\n",
      "Epoch 36/50\n",
      "60000/60000 [==============================] - 3s 42us/step - loss: 0.0258 - acc: 0.9916 - val_loss: 0.0248 - val_acc: 0.9936\n",
      "Epoch 37/50\n",
      "60000/60000 [==============================] - 3s 42us/step - loss: 0.0250 - acc: 0.9914 - val_loss: 0.0208 - val_acc: 0.9943\n",
      "Epoch 38/50\n",
      "60000/60000 [==============================] - 2s 41us/step - loss: 0.0239 - acc: 0.9922 - val_loss: 0.0261 - val_acc: 0.9937\n",
      "Epoch 39/50\n",
      "60000/60000 [==============================] - 3s 42us/step - loss: 0.0233 - acc: 0.9922 - val_loss: 0.0273 - val_acc: 0.9932\n",
      "Epoch 40/50\n",
      "60000/60000 [==============================] - 3s 42us/step - loss: 0.0258 - acc: 0.9914 - val_loss: 0.0243 - val_acc: 0.9936\n",
      "Epoch 41/50\n",
      "60000/60000 [==============================] - 3s 42us/step - loss: 0.0251 - acc: 0.9919 - val_loss: 0.0245 - val_acc: 0.9938\n",
      "Epoch 42/50\n",
      "60000/60000 [==============================] - 3s 42us/step - loss: 0.0237 - acc: 0.9921 - val_loss: 0.0255 - val_acc: 0.9940\n",
      "Epoch 43/50\n",
      "60000/60000 [==============================] - 3s 43us/step - loss: 0.0254 - acc: 0.9915 - val_loss: 0.0237 - val_acc: 0.9933\n",
      "Epoch 44/50\n",
      "60000/60000 [==============================] - 3s 42us/step - loss: 0.0224 - acc: 0.9924 - val_loss: 0.0269 - val_acc: 0.9930\n",
      "Epoch 45/50\n",
      "60000/60000 [==============================] - 3s 43us/step - loss: 0.0213 - acc: 0.9931 - val_loss: 0.0237 - val_acc: 0.9941\n",
      "Epoch 46/50\n",
      "60000/60000 [==============================] - 3s 43us/step - loss: 0.0223 - acc: 0.9929 - val_loss: 0.0244 - val_acc: 0.9936\n",
      "Epoch 47/50\n",
      "60000/60000 [==============================] - 3s 43us/step - loss: 0.0222 - acc: 0.9928 - val_loss: 0.0251 - val_acc: 0.9936\n",
      "Epoch 48/50\n",
      "60000/60000 [==============================] - 3s 43us/step - loss: 0.0226 - acc: 0.9926 - val_loss: 0.0238 - val_acc: 0.9938\n",
      "Epoch 49/50\n",
      "60000/60000 [==============================] - 3s 42us/step - loss: 0.0203 - acc: 0.9935 - val_loss: 0.0266 - val_acc: 0.9928\n",
      "Epoch 50/50\n",
      "60000/60000 [==============================] - 3s 42us/step - loss: 0.0193 - acc: 0.9936 - val_loss: 0.0235 - val_acc: 0.9944\n"
     ]
    }
   ],
   "source": [
    "model.compile(loss='categorical_crossentropy', optimizer='adam', metrics=['accuracy'])\n",
    "hist = model.fit(X_train, Y_train,\n",
    "                 batch_size=128,\n",
    "                 epochs=50,\n",
    "                 verbose=1, \n",
    "                 validation_data=(X_test, Y_test))"
   ]
  },
  {
   "cell_type": "code",
   "execution_count": 14,
   "metadata": {},
   "outputs": [
    {
     "name": "stdout",
     "output_type": "stream",
     "text": [
      "10000/10000 [==============================] - 0s 42us/step\n"
     ]
    }
   ],
   "source": [
    "loss_and_metrics = model.evaluate(X_test, Y_test, batch_size=32)"
   ]
  },
  {
   "cell_type": "code",
   "execution_count": 15,
   "metadata": {},
   "outputs": [
    {
     "name": "stdout",
     "output_type": "stream",
     "text": [
      "loss_and_metrics : [0.02354270714754375, 0.9944]\n"
     ]
    }
   ],
   "source": [
    "print('loss_and_metrics : ' + str(loss_and_metrics))"
   ]
  },
  {
   "cell_type": "code",
   "execution_count": 16,
   "metadata": {},
   "outputs": [
    {
     "data": {
      "image/png": "[encoded data removed]",
      "text/plain": [
       "<Figure size 432x288 with 1 Axes>"
      ]
     },
     "metadata": {
      "needs_background": "light"
     },
     "output_type": "display_data"
    }
   ],
   "source": [
    "#loss graph 그리기\n",
    "\n",
    "%matplotlib inline\n",
    "import matplotlib.pyplot as plt\n",
    "\n",
    "fig, loss_ax = plt.subplots()\n",
    "\n",
    "loss_ax.plot(hist.history['loss'], 'b', label='train loss')\n",
    "loss_ax.plot(hist.history['val_loss'], 'r', label='test loss')\n",
    "\n",
    "loss_ax.set_xlabel('epoch')\n",
    "loss_ax.set_ylabel('loss')\n",
    "\n",
    "loss_ax.legend(loc='upper right')\n",
    "\n",
    "plt.show()"
   ]
  },
  {
   "cell_type": "code",
   "execution_count": 17,
   "metadata": {},
   "outputs": [
    {
     "data": {
      "image/png": "[encoded data removed]",
      "text/plain": [
       "<Figure size 432x288 with 1 Axes>"
      ]
     },
     "metadata": {
      "needs_background": "light"
     },
     "output_type": "display_data"
    }
   ],
   "source": [
    "fig, loss_ax = plt.subplots()\n",
    "\n",
    "loss_ax.plot(hist.history['acc'], 'b', label='train accuracy')\n",
    "loss_ax.plot(hist.history['val_acc'], 'r', label='test accuracy')\n",
    "\n",
    "loss_ax.set_xlabel('epoch')\n",
    "loss_ax.set_ylabel('accuracy')\n",
    "\n",
    "loss_ax.legend(loc='upper right')\n",
    "\n",
    "plt.show()\n"
   ]
  },
  {
   "cell_type": "code",
   "execution_count": 18,
   "metadata": {},
   "outputs": [
    {
     "data": {
      "image/svg+xml": [
       "<svg height=\"792pt\" viewBox=\"0.00 0.00 392.00 792.00\" width=\"392pt\" xmlns=\"http://www.w3.org/2000/svg\" xmlns:xlink=\"http://www.w3.org/1999/xlink\">\n",
       "<g class=\"graph\" id=\"graph0\" transform=\"scale(1 1) rotate(0) translate(4 788)\">\n",
       "<title>G</title>\n",
       "<polygon fill=\"white\" points=\"-4,4 -4,-788 388,-788 388,4 -4,4\" stroke=\"none\"/>\n",
       "<!-- 2813214885424 -->\n",
       "<g class=\"node\" id=\"node1\"><title>2813214885424</title>\n",
       "<polygon fill=\"none\" points=\"41,-664.5 41,-710.5 343,-710.5 343,-664.5 41,-664.5\" stroke=\"black\"/>\n",
       "<text font-family=\"Times New Roman,serif\" font-size=\"14.00\" text-anchor=\"middle\" x=\"104.5\" y=\"-683.8\">conv2d_2: Conv2D</text>\n",
       "<polyline fill=\"none\" points=\"168,-664.5 168,-710.5 \" stroke=\"black\"/>\n",
       "<text font-family=\"Times New Roman,serif\" font-size=\"14.00\" text-anchor=\"middle\" x=\"196\" y=\"-695.3\">input:</text>\n",
       "<polyline fill=\"none\" points=\"168,-687.5 224,-687.5 \" stroke=\"black\"/>\n",
       "<text font-family=\"Times New Roman,serif\" font-size=\"14.00\" text-anchor=\"middle\" x=\"196\" y=\"-672.3\">output:</text>\n",
       "<polyline fill=\"none\" points=\"224,-664.5 224,-710.5 \" stroke=\"black\"/>\n",
       "<text font-family=\"Times New Roman,serif\" font-size=\"14.00\" text-anchor=\"middle\" x=\"283.5\" y=\"-695.3\">(None, 28, 28, 1)</text>\n",
       "<polyline fill=\"none\" points=\"224,-687.5 343,-687.5 \" stroke=\"black\"/>\n",
       "<text font-family=\"Times New Roman,serif\" font-size=\"14.00\" text-anchor=\"middle\" x=\"283.5\" y=\"-672.3\">(None, 28, 28, 32)</text>\n",
       "</g>\n",
       "<!-- 2813214885536 -->\n",
       "<g class=\"node\" id=\"node2\"><title>2813214885536</title>\n",
       "<polygon fill=\"none\" points=\"0,-581.5 0,-627.5 384,-627.5 384,-581.5 0,-581.5\" stroke=\"black\"/>\n",
       "<text font-family=\"Times New Roman,serif\" font-size=\"14.00\" text-anchor=\"middle\" x=\"104.5\" y=\"-600.8\">max_pooling2d_2: MaxPooling2D</text>\n",
       "<polyline fill=\"none\" points=\"209,-581.5 209,-627.5 \" stroke=\"black\"/>\n",
       "<text font-family=\"Times New Roman,serif\" font-size=\"14.00\" text-anchor=\"middle\" x=\"237\" y=\"-612.3\">input:</text>\n",
       "<polyline fill=\"none\" points=\"209,-604.5 265,-604.5 \" stroke=\"black\"/>\n",
       "<text font-family=\"Times New Roman,serif\" font-size=\"14.00\" text-anchor=\"middle\" x=\"237\" y=\"-589.3\">output:</text>\n",
       "<polyline fill=\"none\" points=\"265,-581.5 265,-627.5 \" stroke=\"black\"/>\n",
       "<text font-family=\"Times New Roman,serif\" font-size=\"14.00\" text-anchor=\"middle\" x=\"324.5\" y=\"-612.3\">(None, 28, 28, 32)</text>\n",
       "<polyline fill=\"none\" points=\"265,-604.5 384,-604.5 \" stroke=\"black\"/>\n",
       "<text font-family=\"Times New Roman,serif\" font-size=\"14.00\" text-anchor=\"middle\" x=\"324.5\" y=\"-589.3\">(None, 14, 14, 32)</text>\n",
       "</g>\n",
       "<!-- 2813214885424&#45;&gt;2813214885536 -->\n",
       "<g class=\"edge\" id=\"edge2\"><title>2813214885424-&gt;2813214885536</title>\n",
       "<path d=\"M192,-664.366C192,-656.152 192,-646.658 192,-637.725\" fill=\"none\" stroke=\"black\"/>\n",
       "<polygon fill=\"black\" points=\"195.5,-637.607 192,-627.607 188.5,-637.607 195.5,-637.607\" stroke=\"black\"/>\n",
       "</g>\n",
       "<!-- 2813214886600 -->\n",
       "<g class=\"node\" id=\"node3\"><title>2813214886600</title>\n",
       "<polygon fill=\"none\" points=\"41,-498.5 41,-544.5 343,-544.5 343,-498.5 41,-498.5\" stroke=\"black\"/>\n",
       "<text font-family=\"Times New Roman,serif\" font-size=\"14.00\" text-anchor=\"middle\" x=\"104.5\" y=\"-517.8\">conv2d_3: Conv2D</text>\n",
       "<polyline fill=\"none\" points=\"168,-498.5 168,-544.5 \" stroke=\"black\"/>\n",
       "<text font-family=\"Times New Roman,serif\" font-size=\"14.00\" text-anchor=\"middle\" x=\"196\" y=\"-529.3\">input:</text>\n",
       "<polyline fill=\"none\" points=\"168,-521.5 224,-521.5 \" stroke=\"black\"/>\n",
       "<text font-family=\"Times New Roman,serif\" font-size=\"14.00\" text-anchor=\"middle\" x=\"196\" y=\"-506.3\">output:</text>\n",
       "<polyline fill=\"none\" points=\"224,-498.5 224,-544.5 \" stroke=\"black\"/>\n",
       "<text font-family=\"Times New Roman,serif\" font-size=\"14.00\" text-anchor=\"middle\" x=\"283.5\" y=\"-529.3\">(None, 14, 14, 32)</text>\n",
       "<polyline fill=\"none\" points=\"224,-521.5 343,-521.5 \" stroke=\"black\"/>\n",
       "<text font-family=\"Times New Roman,serif\" font-size=\"14.00\" text-anchor=\"middle\" x=\"283.5\" y=\"-506.3\">(None, 14, 14, 64)</text>\n",
       "</g>\n",
       "<!-- 2813214885536&#45;&gt;2813214886600 -->\n",
       "<g class=\"edge\" id=\"edge3\"><title>2813214885536-&gt;2813214886600</title>\n",
       "<path d=\"M192,-581.366C192,-573.152 192,-563.658 192,-554.725\" fill=\"none\" stroke=\"black\"/>\n",
       "<polygon fill=\"black\" points=\"195.5,-554.607 192,-544.607 188.5,-554.607 195.5,-554.607\" stroke=\"black\"/>\n",
       "</g>\n",
       "<!-- 2813214887440 -->\n",
       "<g class=\"node\" id=\"node4\"><title>2813214887440</title>\n",
       "<polygon fill=\"none\" points=\"0,-415.5 0,-461.5 384,-461.5 384,-415.5 0,-415.5\" stroke=\"black\"/>\n",
       "<text font-family=\"Times New Roman,serif\" font-size=\"14.00\" text-anchor=\"middle\" x=\"104.5\" y=\"-434.8\">max_pooling2d_3: MaxPooling2D</text>\n",
       "<polyline fill=\"none\" points=\"209,-415.5 209,-461.5 \" stroke=\"black\"/>\n",
       "<text font-family=\"Times New Roman,serif\" font-size=\"14.00\" text-anchor=\"middle\" x=\"237\" y=\"-446.3\">input:</text>\n",
       "<polyline fill=\"none\" points=\"209,-438.5 265,-438.5 \" stroke=\"black\"/>\n",
       "<text font-family=\"Times New Roman,serif\" font-size=\"14.00\" text-anchor=\"middle\" x=\"237\" y=\"-423.3\">output:</text>\n",
       "<polyline fill=\"none\" points=\"265,-415.5 265,-461.5 \" stroke=\"black\"/>\n",
       "<text font-family=\"Times New Roman,serif\" font-size=\"14.00\" text-anchor=\"middle\" x=\"324.5\" y=\"-446.3\">(None, 14, 14, 64)</text>\n",
       "<polyline fill=\"none\" points=\"265,-438.5 384,-438.5 \" stroke=\"black\"/>\n",
       "<text font-family=\"Times New Roman,serif\" font-size=\"14.00\" text-anchor=\"middle\" x=\"324.5\" y=\"-423.3\">(None, 7, 7, 64)</text>\n",
       "</g>\n",
       "<!-- 2813214886600&#45;&gt;2813214887440 -->\n",
       "<g class=\"edge\" id=\"edge4\"><title>2813214886600-&gt;2813214887440</title>\n",
       "<path d=\"M192,-498.366C192,-490.152 192,-480.658 192,-471.725\" fill=\"none\" stroke=\"black\"/>\n",
       "<polygon fill=\"black\" points=\"195.5,-471.607 192,-461.607 188.5,-471.607 195.5,-471.607\" stroke=\"black\"/>\n",
       "</g>\n",
       "<!-- 2813214940576 -->\n",
       "<g class=\"node\" id=\"node5\"><title>2813214940576</title>\n",
       "<polygon fill=\"none\" points=\"46.5,-332.5 46.5,-378.5 337.5,-378.5 337.5,-332.5 46.5,-332.5\" stroke=\"black\"/>\n",
       "<text font-family=\"Times New Roman,serif\" font-size=\"14.00\" text-anchor=\"middle\" x=\"111.5\" y=\"-351.8\">dropout_3: Dropout</text>\n",
       "<polyline fill=\"none\" points=\"176.5,-332.5 176.5,-378.5 \" stroke=\"black\"/>\n",
       "<text font-family=\"Times New Roman,serif\" font-size=\"14.00\" text-anchor=\"middle\" x=\"204.5\" y=\"-363.3\">input:</text>\n",
       "<polyline fill=\"none\" points=\"176.5,-355.5 232.5,-355.5 \" stroke=\"black\"/>\n",
       "<text font-family=\"Times New Roman,serif\" font-size=\"14.00\" text-anchor=\"middle\" x=\"204.5\" y=\"-340.3\">output:</text>\n",
       "<polyline fill=\"none\" points=\"232.5,-332.5 232.5,-378.5 \" stroke=\"black\"/>\n",
       "<text font-family=\"Times New Roman,serif\" font-size=\"14.00\" text-anchor=\"middle\" x=\"285\" y=\"-363.3\">(None, 7, 7, 64)</text>\n",
       "<polyline fill=\"none\" points=\"232.5,-355.5 337.5,-355.5 \" stroke=\"black\"/>\n",
       "<text font-family=\"Times New Roman,serif\" font-size=\"14.00\" text-anchor=\"middle\" x=\"285\" y=\"-340.3\">(None, 7, 7, 64)</text>\n",
       "</g>\n",
       "<!-- 2813214887440&#45;&gt;2813214940576 -->\n",
       "<g class=\"edge\" id=\"edge5\"><title>2813214887440-&gt;2813214940576</title>\n",
       "<path d=\"M192,-415.366C192,-407.152 192,-397.658 192,-388.725\" fill=\"none\" stroke=\"black\"/>\n",
       "<polygon fill=\"black\" points=\"195.5,-388.607 192,-378.607 188.5,-388.607 195.5,-388.607\" stroke=\"black\"/>\n",
       "</g>\n",
       "<!-- 2813214939008 -->\n",
       "<g class=\"node\" id=\"node6\"><title>2813214939008</title>\n",
       "<polygon fill=\"none\" points=\"57,-249.5 57,-295.5 327,-295.5 327,-249.5 57,-249.5\" stroke=\"black\"/>\n",
       "<text font-family=\"Times New Roman,serif\" font-size=\"14.00\" text-anchor=\"middle\" x=\"111.5\" y=\"-268.8\">flatten_2: Flatten</text>\n",
       "<polyline fill=\"none\" points=\"166,-249.5 166,-295.5 \" stroke=\"black\"/>\n",
       "<text font-family=\"Times New Roman,serif\" font-size=\"14.00\" text-anchor=\"middle\" x=\"194\" y=\"-280.3\">input:</text>\n",
       "<polyline fill=\"none\" points=\"166,-272.5 222,-272.5 \" stroke=\"black\"/>\n",
       "<text font-family=\"Times New Roman,serif\" font-size=\"14.00\" text-anchor=\"middle\" x=\"194\" y=\"-257.3\">output:</text>\n",
       "<polyline fill=\"none\" points=\"222,-249.5 222,-295.5 \" stroke=\"black\"/>\n",
       "<text font-family=\"Times New Roman,serif\" font-size=\"14.00\" text-anchor=\"middle\" x=\"274.5\" y=\"-280.3\">(None, 7, 7, 64)</text>\n",
       "<polyline fill=\"none\" points=\"222,-272.5 327,-272.5 \" stroke=\"black\"/>\n",
       "<text font-family=\"Times New Roman,serif\" font-size=\"14.00\" text-anchor=\"middle\" x=\"274.5\" y=\"-257.3\">(None, 3136)</text>\n",
       "</g>\n",
       "<!-- 2813214940576&#45;&gt;2813214939008 -->\n",
       "<g class=\"edge\" id=\"edge6\"><title>2813214940576-&gt;2813214939008</title>\n",
       "<path d=\"M192,-332.366C192,-324.152 192,-314.658 192,-305.725\" fill=\"none\" stroke=\"black\"/>\n",
       "<polygon fill=\"black\" points=\"195.5,-305.607 192,-295.607 188.5,-305.607 195.5,-305.607\" stroke=\"black\"/>\n",
       "</g>\n",
       "<!-- 2813214940128 -->\n",
       "<g class=\"node\" id=\"node7\"><title>2813214940128</title>\n",
       "<polygon fill=\"none\" points=\"67,-166.5 67,-212.5 317,-212.5 317,-166.5 67,-166.5\" stroke=\"black\"/>\n",
       "<text font-family=\"Times New Roman,serif\" font-size=\"14.00\" text-anchor=\"middle\" x=\"119\" y=\"-185.8\">dense_3: Dense</text>\n",
       "<polyline fill=\"none\" points=\"171,-166.5 171,-212.5 \" stroke=\"black\"/>\n",
       "<text font-family=\"Times New Roman,serif\" font-size=\"14.00\" text-anchor=\"middle\" x=\"199\" y=\"-197.3\">input:</text>\n",
       "<polyline fill=\"none\" points=\"171,-189.5 227,-189.5 \" stroke=\"black\"/>\n",
       "<text font-family=\"Times New Roman,serif\" font-size=\"14.00\" text-anchor=\"middle\" x=\"199\" y=\"-174.3\">output:</text>\n",
       "<polyline fill=\"none\" points=\"227,-166.5 227,-212.5 \" stroke=\"black\"/>\n",
       "<text font-family=\"Times New Roman,serif\" font-size=\"14.00\" text-anchor=\"middle\" x=\"272\" y=\"-197.3\">(None, 3136)</text>\n",
       "<polyline fill=\"none\" points=\"227,-189.5 317,-189.5 \" stroke=\"black\"/>\n",
       "<text font-family=\"Times New Roman,serif\" font-size=\"14.00\" text-anchor=\"middle\" x=\"272\" y=\"-174.3\">(None, 64)</text>\n",
       "</g>\n",
       "<!-- 2813214939008&#45;&gt;2813214940128 -->\n",
       "<g class=\"edge\" id=\"edge7\"><title>2813214939008-&gt;2813214940128</title>\n",
       "<path d=\"M192,-249.366C192,-241.152 192,-231.658 192,-222.725\" fill=\"none\" stroke=\"black\"/>\n",
       "<polygon fill=\"black\" points=\"195.5,-222.607 192,-212.607 188.5,-222.607 195.5,-222.607\" stroke=\"black\"/>\n",
       "</g>\n",
       "<!-- 2814365273896 -->\n",
       "<g class=\"node\" id=\"node8\"><title>2814365273896</title>\n",
       "<polygon fill=\"none\" points=\"60.5,-83.5 60.5,-129.5 323.5,-129.5 323.5,-83.5 60.5,-83.5\" stroke=\"black\"/>\n",
       "<text font-family=\"Times New Roman,serif\" font-size=\"14.00\" text-anchor=\"middle\" x=\"125.5\" y=\"-102.8\">dropout_4: Dropout</text>\n",
       "<polyline fill=\"none\" points=\"190.5,-83.5 190.5,-129.5 \" stroke=\"black\"/>\n",
       "<text font-family=\"Times New Roman,serif\" font-size=\"14.00\" text-anchor=\"middle\" x=\"218.5\" y=\"-114.3\">input:</text>\n",
       "<polyline fill=\"none\" points=\"190.5,-106.5 246.5,-106.5 \" stroke=\"black\"/>\n",
       "<text font-family=\"Times New Roman,serif\" font-size=\"14.00\" text-anchor=\"middle\" x=\"218.5\" y=\"-91.3\">output:</text>\n",
       "<polyline fill=\"none\" points=\"246.5,-83.5 246.5,-129.5 \" stroke=\"black\"/>\n",
       "<text font-family=\"Times New Roman,serif\" font-size=\"14.00\" text-anchor=\"middle\" x=\"285\" y=\"-114.3\">(None, 64)</text>\n",
       "<polyline fill=\"none\" points=\"246.5,-106.5 323.5,-106.5 \" stroke=\"black\"/>\n",
       "<text font-family=\"Times New Roman,serif\" font-size=\"14.00\" text-anchor=\"middle\" x=\"285\" y=\"-91.3\">(None, 64)</text>\n",
       "</g>\n",
       "<!-- 2813214940128&#45;&gt;2814365273896 -->\n",
       "<g class=\"edge\" id=\"edge8\"><title>2813214940128-&gt;2814365273896</title>\n",
       "<path d=\"M192,-166.366C192,-158.152 192,-148.658 192,-139.725\" fill=\"none\" stroke=\"black\"/>\n",
       "<polygon fill=\"black\" points=\"195.5,-139.607 192,-129.607 188.5,-139.607 195.5,-139.607\" stroke=\"black\"/>\n",
       "</g>\n",
       "<!-- 2813215327344 -->\n",
       "<g class=\"node\" id=\"node9\"><title>2813215327344</title>\n",
       "<polygon fill=\"none\" points=\"73.5,-0.5 73.5,-46.5 310.5,-46.5 310.5,-0.5 73.5,-0.5\" stroke=\"black\"/>\n",
       "<text font-family=\"Times New Roman,serif\" font-size=\"14.00\" text-anchor=\"middle\" x=\"125.5\" y=\"-19.8\">dense_4: Dense</text>\n",
       "<polyline fill=\"none\" points=\"177.5,-0.5 177.5,-46.5 \" stroke=\"black\"/>\n",
       "<text font-family=\"Times New Roman,serif\" font-size=\"14.00\" text-anchor=\"middle\" x=\"205.5\" y=\"-31.3\">input:</text>\n",
       "<polyline fill=\"none\" points=\"177.5,-23.5 233.5,-23.5 \" stroke=\"black\"/>\n",
       "<text font-family=\"Times New Roman,serif\" font-size=\"14.00\" text-anchor=\"middle\" x=\"205.5\" y=\"-8.3\">output:</text>\n",
       "<polyline fill=\"none\" points=\"233.5,-0.5 233.5,-46.5 \" stroke=\"black\"/>\n",
       "<text font-family=\"Times New Roman,serif\" font-size=\"14.00\" text-anchor=\"middle\" x=\"272\" y=\"-31.3\">(None, 64)</text>\n",
       "<polyline fill=\"none\" points=\"233.5,-23.5 310.5,-23.5 \" stroke=\"black\"/>\n",
       "<text font-family=\"Times New Roman,serif\" font-size=\"14.00\" text-anchor=\"middle\" x=\"272\" y=\"-8.3\">(None, 10)</text>\n",
       "</g>\n",
       "<!-- 2814365273896&#45;&gt;2813215327344 -->\n",
       "<g class=\"edge\" id=\"edge9\"><title>2814365273896-&gt;2813215327344</title>\n",
       "<path d=\"M192,-83.3664C192,-75.1516 192,-65.6579 192,-56.7252\" fill=\"none\" stroke=\"black\"/>\n",
       "<polygon fill=\"black\" points=\"195.5,-56.6068 192,-46.6068 188.5,-56.6069 195.5,-56.6068\" stroke=\"black\"/>\n",
       "</g>\n",
       "<!-- 2813214885928 -->\n",
       "<g class=\"node\" id=\"node10\"><title>2813214885928</title>\n",
       "<polygon fill=\"none\" points=\"140,-747.5 140,-783.5 244,-783.5 244,-747.5 140,-747.5\" stroke=\"black\"/>\n",
       "<text font-family=\"Times New Roman,serif\" font-size=\"14.00\" text-anchor=\"middle\" x=\"192\" y=\"-761.8\">2813214885928</text>\n",
       "</g>\n",
       "<!-- 2813214885928&#45;&gt;2813214885424 -->\n",
       "<g class=\"edge\" id=\"edge1\"><title>2813214885928-&gt;2813214885424</title>\n",
       "<path d=\"M192,-747.254C192,-739.363 192,-729.749 192,-720.602\" fill=\"none\" stroke=\"black\"/>\n",
       "<polygon fill=\"black\" points=\"195.5,-720.591 192,-710.591 188.5,-720.591 195.5,-720.591\" stroke=\"black\"/>\n",
       "</g>\n",
       "</g>\n",
       "</svg>"
      ],
      "text/plain": [
       "<IPython.core.display.SVG object>"
      ]
     },
     "execution_count": 18,
     "metadata": {},
     "output_type": "execute_result"
    }
   ],
   "source": [
    "from IPython.display import SVG\n",
    "from keras.utils.vis_utils import model_to_dot\n",
    "\n",
    "%matplotlib inline\n",
    "\n",
    "SVG(model_to_dot(model, show_shapes=True).create(prog='dot', format='svg'))"
   ]
  },
  {
   "cell_type": "code",
   "execution_count": null,
   "metadata": {},
   "outputs": [],
   "source": []
  }
 ],
 "metadata": {
  "kernelspec": {
   "display_name": "Python 3",
   "language": "python",
   "name": "python3"
  },
  "language_info": {
   "codemirror_mode": {
    "name": "ipython",
    "version": 3
   },
   "file_extension": ".py",
   "mimetype": "text/x-python",
   "name": "python",
   "nbconvert_exporter": "python",
   "pygments_lexer": "ipython3",
   "version": "3.7.3"
  }
 },
 "nbformat": 4,
 "nbformat_minor": 4
}
