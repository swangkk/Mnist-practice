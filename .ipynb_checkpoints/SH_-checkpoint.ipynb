{
 "cells": [
  {
   "cell_type": "code",
   "execution_count": 2,
   "metadata": {},
   "outputs": [],
   "source": [
    "import numpy as np\n",
    "import matplotlib.pyplot as plt"
   ]
  },
  {
   "cell_type": "code",
   "execution_count": 3,
   "metadata": {},
   "outputs": [
    {
     "name": "stdout",
     "output_type": "stream",
     "text": [
      "WARNING:tensorflow:From <ipython-input-3-defb82d525f4>:2: read_data_sets (from tensorflow.contrib.learn.python.learn.datasets.mnist) is deprecated and will be removed in a future version.\n",
      "Instructions for updating:\n",
      "Please use alternatives such as official/mnist/dataset.py from tensorflow/models.\n",
      "WARNING:tensorflow:From C:\\Users\\ffree\\Anaconda3\\envs\\practice\\lib\\site-packages\\tensorflow\\contrib\\learn\\python\\learn\\datasets\\mnist.py:260: maybe_download (from tensorflow.contrib.learn.python.learn.datasets.base) is deprecated and will be removed in a future version.\n",
      "Instructions for updating:\n",
      "Please write your own downloading logic.\n",
      "WARNING:tensorflow:From C:\\Users\\ffree\\Anaconda3\\envs\\practice\\lib\\site-packages\\tensorflow\\contrib\\learn\\python\\learn\\datasets\\mnist.py:262: extract_images (from tensorflow.contrib.learn.python.learn.datasets.mnist) is deprecated and will be removed in a future version.\n",
      "Instructions for updating:\n",
      "Please use tf.data to implement this functionality.\n",
      "Extracting tmp/data/train-images-idx3-ubyte.gz\n",
      "WARNING:tensorflow:From C:\\Users\\ffree\\Anaconda3\\envs\\practice\\lib\\site-packages\\tensorflow\\contrib\\learn\\python\\learn\\datasets\\mnist.py:267: extract_labels (from tensorflow.contrib.learn.python.learn.datasets.mnist) is deprecated and will be removed in a future version.\n",
      "Instructions for updating:\n",
      "Please use tf.data to implement this functionality.\n",
      "Extracting tmp/data/train-labels-idx1-ubyte.gz\n",
      "WARNING:tensorflow:From C:\\Users\\ffree\\Anaconda3\\envs\\practice\\lib\\site-packages\\tensorflow\\contrib\\learn\\python\\learn\\datasets\\mnist.py:110: dense_to_one_hot (from tensorflow.contrib.learn.python.learn.datasets.mnist) is deprecated and will be removed in a future version.\n",
      "Instructions for updating:\n",
      "Please use tf.one_hot on tensors.\n",
      "Extracting tmp/data/t10k-images-idx3-ubyte.gz\n",
      "Extracting tmp/data/t10k-labels-idx1-ubyte.gz\n",
      "WARNING:tensorflow:From C:\\Users\\ffree\\Anaconda3\\envs\\practice\\lib\\site-packages\\tensorflow\\contrib\\learn\\python\\learn\\datasets\\mnist.py:290: DataSet.__init__ (from tensorflow.contrib.learn.python.learn.datasets.mnist) is deprecated and will be removed in a future version.\n",
      "Instructions for updating:\n",
      "Please use alternatives such as official/mnist/dataset.py from tensorflow/models.\n"
     ]
    }
   ],
   "source": [
    "from tensorflow.examples.tutorials.mnist import input_data\n",
    "mnist=input_data.read_data_sets(\"tmp/data/\",one_hot=True)"
   ]
  },
  {
   "cell_type": "code",
   "execution_count": 4,
   "metadata": {},
   "outputs": [
    {
     "name": "stdout",
     "output_type": "stream",
     "text": [
      "training image : (55000, 784)\n",
      "training label : (55000, 10)\n",
      "test image : (10000, 784)\n",
      "test label : (10000, 10)\n",
      "validation image : (5000, 784)\n",
      "validation label : (5000, 10)\n"
     ]
    }
   ],
   "source": [
    "print(\"training image :\", mnist.train.images.shape)\n",
    "print(\"training label :\",mnist.train.labels.shape)\n",
    "print(\"test image :\",mnist.test.images.shape)\n",
    "print(\"test label :\",mnist.test.labels.shape)\n",
    "print(\"validation image :\",mnist.validation.images.shape)\n",
    "print(\"validation label :\",mnist.validation.labels.shape)\n"
   ]
  },
  {
   "cell_type": "code",
   "execution_count": 16,
   "metadata": {},
   "outputs": [
    {
     "name": "stdout",
     "output_type": "stream",
     "text": [
      "[label]\n",
      "one_hot vector label =  [0. 0. 0. 1. 0. 0. 0. 0. 0. 0.]\n",
      "number label =  3\n"
     ]
    }
   ],
   "source": [
    "mnist_idx =1\n",
    "print('[label]')\n",
    "print('one_hot vector label = ', mnist.train.labels[mnist_idx])\n",
    "print('number label = ',np.argmax(mnist.train.labels[mnist_idx]))"
   ]
  },
  {
   "cell_type": "code",
   "execution_count": 17,
   "metadata": {},
   "outputs": [
    {
     "name": "stdout",
     "output_type": "stream",
     "text": [
      "[image]\n",
      "\n",
      "\n",
      "  0.000000  0.000000  0.000000  0.000000  0.000000  0.000000  0.000000  0.000000  0.000000  0.000000  0.000000  0.000000  0.000000  0.000000  0.000000  0.000000  0.000000  0.000000  0.000000  0.000000  0.000000  0.000000  0.000000  0.000000  0.000000  0.000000  0.000000\n",
      "\n",
      "  0.000000  0.000000  0.000000  0.000000  0.000000  0.000000  0.000000  0.000000  0.000000  0.000000  0.000000  0.000000  0.000000  0.000000  0.000000  0.000000  0.000000  0.000000  0.000000  0.000000  0.000000  0.000000  0.000000  0.000000  0.000000  0.000000  0.000000\n",
      "\n",
      "  0.000000  0.000000  0.000000  0.000000  0.000000  0.000000  0.000000  0.000000  0.000000  0.000000  0.000000  0.000000  0.000000  0.000000  0.000000  0.000000  0.000000  0.000000  0.000000  0.000000  0.000000  0.000000  0.000000  0.000000  0.000000  0.000000  0.000000\n",
      "\n",
      "  0.000000  0.000000  0.000000  0.000000  0.000000  0.000000  0.000000  0.000000  0.000000  0.000000  0.000000  0.000000  0.000000  0.000000  0.000000  0.000000  0.000000  0.000000  0.000000  0.000000  0.000000  0.000000  0.000000  0.000000  0.000000  0.000000  0.000000\n",
      "\n",
      "  0.000000  0.000000  0.000000  0.000000  0.000000  0.000000  0.000000  0.000000  0.000000  0.000000  0.000000  0.000000  0.000000  0.000000  0.000000  0.000000  0.000000  0.000000  0.000000  0.000000  0.000000  0.000000  0.000000  0.000000  0.000000  0.000000  0.000000\n",
      "\n",
      "  0.000000  0.000000  0.000000  0.000000  0.000000  0.000000  0.000000  0.000000  0.000000  0.000000  0.000000  0.000000  0.121569  0.517647  0.996078  0.992157  0.996078  0.835294  0.321569  0.000000  0.000000  0.000000  0.000000  0.000000  0.000000  0.000000  0.000000\n",
      "\n",
      "  0.000000  0.000000  0.000000  0.000000  0.000000  0.000000  0.000000  0.000000  0.000000  0.000000  0.082353  0.556863  0.913726  0.988235  0.992157  0.988235  0.992157  0.988235  0.874510  0.078431  0.000000  0.000000  0.000000  0.000000  0.000000  0.000000  0.000000\n",
      "\n",
      "  0.000000  0.000000  0.000000  0.000000  0.000000  0.000000  0.000000  0.000000  0.000000  0.482353  0.996078  0.992157  0.996078  0.992157  0.878431  0.796079  0.796079  0.874510  1.000000  0.835294  0.000000  0.000000  0.000000  0.000000  0.000000  0.000000  0.000000\n",
      "\n",
      "  0.000000  0.000000  0.000000  0.000000  0.000000  0.000000  0.000000  0.000000  0.000000  0.796079  0.992157  0.988235  0.992157  0.831373  0.078431  0.000000  0.000000  0.239216  0.992157  0.988235  0.000000  0.000000  0.000000  0.000000  0.000000  0.000000  0.000000\n",
      "\n",
      "  0.000000  0.000000  0.000000  0.000000  0.000000  0.000000  0.000000  0.000000  0.160784  0.952941  0.878431  0.796079  0.717647  0.160784  0.596078  0.117647  0.000000  0.000000  1.000000  0.992157  0.400000  0.000000  0.000000  0.000000  0.000000  0.000000  0.000000\n",
      "\n",
      "  0.000000  0.000000  0.000000  0.000000  0.000000  0.000000  0.000000  0.000000  0.000000  0.156863  0.078431  0.000000  0.000000  0.400000  0.992157  0.196078  0.000000  0.321569  0.992157  0.988235  0.078431  0.000000  0.000000  0.000000  0.000000  0.000000  0.000000\n",
      "\n",
      "  0.000000  0.000000  0.000000  0.000000  0.000000  0.000000  0.000000  0.000000  0.000000  0.000000  0.000000  0.000000  0.000000  0.321569  0.839216  0.121569  0.443137  0.913726  0.996078  0.913726  0.000000  0.000000  0.000000  0.000000  0.000000  0.000000  0.000000\n",
      "\n",
      "  0.000000  0.000000  0.000000  0.000000  0.000000  0.000000  0.000000  0.000000  0.000000  0.000000  0.243137  0.400000  0.321569  0.160784  0.992157  0.909804  0.992157  0.988235  0.913726  0.196078  0.000000  0.000000  0.000000  0.000000  0.000000  0.000000  0.000000\n",
      "\n",
      "  0.000000  0.000000  0.000000  0.000000  0.000000  0.000000  0.000000  0.000000  0.000000  0.000000  0.596078  0.992157  0.996078  0.992157  0.996078  0.992157  0.996078  0.913726  0.482353  0.000000  0.000000  0.000000  0.000000  0.000000  0.000000  0.000000  0.000000\n",
      "\n",
      "  0.000000  0.000000  0.000000  0.000000  0.000000  0.000000  0.000000  0.000000  0.000000  0.000000  0.596078  0.988235  0.992157  0.988235  0.992157  0.988235  0.752941  0.196078  0.000000  0.000000  0.000000  0.000000  0.000000  0.000000  0.000000  0.000000  0.000000\n",
      "\n",
      "  0.000000  0.000000  0.000000  0.000000  0.000000  0.000000  0.000000  0.000000  0.000000  0.000000  0.243137  0.717647  0.796079  0.952941  0.996078  0.992157  0.243137  0.000000  0.000000  0.000000  0.000000  0.000000  0.000000  0.000000  0.000000  0.000000  0.000000\n",
      "\n",
      "  0.000000  0.000000  0.000000  0.000000  0.000000  0.000000  0.000000  0.000000  0.000000  0.000000  0.000000  0.000000  0.000000  0.156863  0.674510  0.988235  0.796079  0.078431  0.000000  0.000000  0.000000  0.000000  0.000000  0.000000  0.000000  0.000000  0.000000\n",
      "\n",
      "  0.000000  0.000000  0.000000  0.000000  0.000000  0.082353  0.000000  0.000000  0.000000  0.000000  0.000000  0.000000  0.000000  0.000000  0.000000  0.717647  0.996078  0.439216  0.000000  0.000000  0.000000  0.000000  0.000000  0.000000  0.000000  0.000000  0.000000\n",
      "\n",
      "  0.000000  0.000000  0.000000  0.000000  0.243137  0.796079  0.639216  0.000000  0.000000  0.000000  0.000000  0.000000  0.000000  0.000000  0.000000  0.239216  0.992157  0.592157  0.000000  0.000000  0.000000  0.000000  0.000000  0.000000  0.000000  0.000000  0.000000\n",
      "\n",
      "  0.000000  0.000000  0.000000  0.082353  0.839216  0.752941  0.000000  0.000000  0.000000  0.000000  0.000000  0.000000  0.000000  0.000000  0.043137  0.835294  0.996078  0.592157  0.000000  0.000000  0.000000  0.000000  0.000000  0.000000  0.000000  0.000000  0.000000\n",
      "\n",
      "  0.000000  0.000000  0.000000  0.400000  0.992157  0.592157  0.000000  0.000000  0.000000  0.000000  0.000000  0.000000  0.000000  0.160784  0.835294  0.988235  0.992157  0.435294  0.000000  0.000000  0.000000  0.000000  0.000000  0.000000  0.000000  0.000000  0.000000\n",
      "\n",
      "  0.000000  0.000000  0.000000  0.160784  1.000000  0.835294  0.360784  0.200000  0.000000  0.000000  0.121569  0.360784  0.678431  0.992157  0.996078  0.992157  0.556863  0.000000  0.000000  0.000000  0.000000  0.000000  0.000000  0.000000  0.000000  0.000000  0.000000\n",
      "\n",
      "  0.000000  0.000000  0.000000  0.000000  0.674510  0.988235  0.992157  0.988235  0.796079  0.796079  0.913726  0.988235  0.992157  0.988235  0.992157  0.509804  0.078431  0.000000  0.000000  0.000000  0.000000  0.000000  0.000000  0.000000  0.000000  0.000000  0.000000\n",
      "\n",
      "  0.000000  0.000000  0.000000  0.000000  0.082353  0.796079  1.000000  0.992157  0.996078  0.992157  0.996078  0.992157  0.956863  0.796079  0.321569  0.000000  0.000000  0.000000  0.000000  0.000000  0.000000  0.000000  0.000000  0.000000  0.000000  0.000000  0.000000\n",
      "\n",
      "  0.000000  0.000000  0.000000  0.000000  0.000000  0.078431  0.592157  0.592157  0.992157  0.670588  0.592157  0.592157  0.156863  0.000000  0.000000  0.000000  0.000000  0.000000  0.000000  0.000000  0.000000  0.000000  0.000000  0.000000  0.000000  0.000000  0.000000\n",
      "\n",
      "  0.000000  0.000000  0.000000  0.000000  0.000000  0.000000  0.000000  0.000000  0.000000  0.000000  0.000000  0.000000  0.000000  0.000000  0.000000  0.000000  0.000000  0.000000  0.000000  0.000000  0.000000  0.000000  0.000000  0.000000  0.000000  0.000000  0.000000\n",
      "\n",
      "  0.000000  0.000000  0.000000  0.000000  0.000000  0.000000  0.000000  0.000000  0.000000  0.000000  0.000000  0.000000  0.000000  0.000000  0.000000  0.000000  0.000000  0.000000  0.000000  0.000000  0.000000  0.000000  0.000000  0.000000  0.000000  0.000000  0.000000\n",
      "\n",
      "  0.000000  0.000000  0.000000  0.000000  0.000000  0.000000  0.000000  0.000000  0.000000  0.000000  0.000000  0.000000  0.000000  0.000000  0.000000  0.000000  0.000000  0.000000  0.000000  0.000000  0.000000  0.000000  0.000000  0.000000  0.000000  0.000000  0.000000"
     ]
    }
   ],
   "source": [
    "print('[image]')\n",
    "for index, pixel in enumerate(mnist.train.images[mnist_idx]) :\n",
    "        if index % 28 == 0:\n",
    "            print('\\n')\n",
    "        else :\n",
    "            print(\"%10f\" % pixel,end=\"\")\n"
   ]
  },
  {
   "cell_type": "code",
   "execution_count": 15,
   "metadata": {},
   "outputs": [
    {
     "data": {
      "image/png": "[encoded data removed]",
      "text/plain": [
       "<Figure size 360x360 with 1 Axes>"
      ]
     },
     "metadata": {
      "needs_background": "light"
     },
     "output_type": "display_data"
    }
   ],
   "source": [
    "plt.figure(figsize=(5,5))\n",
    "image = np.reshape(mnist.train.images[mnist_idx],[28,28])\n",
    "plt.imshow(image, cmap='Greys')\n",
    "plt.show()"
   ]
  },
  {
   "cell_type": "code",
   "execution_count": null,
   "metadata": {},
   "outputs": [],
   "source": []
  }
 ],
 "metadata": {
  "kernelspec": {
   "display_name": "Python 3",
   "language": "python",
   "name": "python3"
  },
  "language_info": {
   "codemirror_mode": {
    "name": "ipython",
    "version": 3
   },
   "file_extension": ".py",
   "mimetype": "text/x-python",
   "name": "python",
   "nbconvert_exporter": "python",
   "pygments_lexer": "ipython3",
   "version": "3.7.4"
  }
 },
 "nbformat": 4,
 "nbformat_minor": 4
}
