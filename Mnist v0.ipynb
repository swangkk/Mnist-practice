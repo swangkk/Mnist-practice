{
 "cells": [
  {
   "cell_type": "code",
   "execution_count": 1,
   "metadata": {},
   "outputs": [
    {
     "name": "stderr",
     "output_type": "stream",
     "text": [
      "Using TensorFlow backend.\n"
     ]
    }
   ],
   "source": [
    "from keras.utils import np_utils\n",
    "from keras.datasets import mnist\n",
    "from keras.models import Sequential\n",
    "from keras.layers import Dense, Activation"
   ]
  },
  {
   "cell_type": "code",
   "execution_count": 2,
   "metadata": {},
   "outputs": [],
   "source": [
    "(X_train, Y_train), (X_test, Y_test) = mnist.load_data()\n",
    "X_train = X_train.reshape(60000, 784).astype('float32') / 255.0\n",
    "X_test = X_test.reshape(10000, 784).astype('float32') / 255.0\n",
    "Y_train = np_utils.to_categorical(Y_train)\n",
    "Y_test = np_utils.to_categorical(Y_test)"
   ]
  },
  {
   "cell_type": "code",
   "execution_count": 8,
   "metadata": {},
   "outputs": [
    {
     "name": "stdout",
     "output_type": "stream",
     "text": [
      "Train on 60000 samples, validate on 10000 samples\n",
      "Epoch 1/50\n",
      "60000/60000 [==============================] - 1s 20us/step - loss: 1.2846 - acc: 0.6819 - val_loss: 0.6861 - val_acc: 0.8482\n",
      "Epoch 2/50\n",
      "60000/60000 [==============================] - 1s 17us/step - loss: 0.5820 - acc: 0.8584 - val_loss: 0.4712 - val_acc: 0.8861\n",
      "Epoch 3/50\n",
      "60000/60000 [==============================] - 1s 17us/step - loss: 0.4553 - acc: 0.8813 - val_loss: 0.4002 - val_acc: 0.8976\n",
      "Epoch 4/50\n",
      "60000/60000 [==============================] - 1s 17us/step - loss: 0.4006 - acc: 0.8920 - val_loss: 0.3608 - val_acc: 0.9061\n",
      "Epoch 5/50\n",
      "60000/60000 [==============================] - 1s 17us/step - loss: 0.3683 - acc: 0.8992 - val_loss: 0.3366 - val_acc: 0.9108\n",
      "Epoch 6/50\n",
      "60000/60000 [==============================] - 1s 18us/step - loss: 0.3462 - acc: 0.9043 - val_loss: 0.3189 - val_acc: 0.9147\n",
      "Epoch 7/50\n",
      "60000/60000 [==============================] - 1s 17us/step - loss: 0.3294 - acc: 0.9083 - val_loss: 0.3056 - val_acc: 0.9165\n",
      "Epoch 8/50\n",
      "60000/60000 [==============================] - 1s 18us/step - loss: 0.3159 - acc: 0.9117 - val_loss: 0.2951 - val_acc: 0.9183\n",
      "Epoch 9/50\n",
      "60000/60000 [==============================] - 1s 17us/step - loss: 0.3044 - acc: 0.9154 - val_loss: 0.2846 - val_acc: 0.9219\n",
      "Epoch 10/50\n",
      "60000/60000 [==============================] - 1s 17us/step - loss: 0.2948 - acc: 0.9176 - val_loss: 0.2768 - val_acc: 0.9231\n",
      "Epoch 11/50\n",
      "60000/60000 [==============================] - 1s 18us/step - loss: 0.2860 - acc: 0.9201 - val_loss: 0.2696 - val_acc: 0.9242\n",
      "Epoch 12/50\n",
      "60000/60000 [==============================] - 1s 17us/step - loss: 0.2782 - acc: 0.9225 - val_loss: 0.2630 - val_acc: 0.9248\n",
      "Epoch 13/50\n",
      "60000/60000 [==============================] - 1s 17us/step - loss: 0.2710 - acc: 0.9240 - val_loss: 0.2566 - val_acc: 0.9265\n",
      "Epoch 14/50\n",
      "60000/60000 [==============================] - 1s 18us/step - loss: 0.2644 - acc: 0.9259 - val_loss: 0.2505 - val_acc: 0.9298\n",
      "Epoch 15/50\n",
      "60000/60000 [==============================] - 1s 17us/step - loss: 0.2581 - acc: 0.9280 - val_loss: 0.2461 - val_acc: 0.9299\n",
      "Epoch 16/50\n",
      "60000/60000 [==============================] - 1s 17us/step - loss: 0.2524 - acc: 0.9294 - val_loss: 0.2404 - val_acc: 0.9313\n",
      "Epoch 17/50\n",
      "60000/60000 [==============================] - 1s 18us/step - loss: 0.2470 - acc: 0.9311 - val_loss: 0.2354 - val_acc: 0.9325\n",
      "Epoch 18/50\n",
      "60000/60000 [==============================] - 1s 18us/step - loss: 0.2418 - acc: 0.9324 - val_loss: 0.2309 - val_acc: 0.9342\n",
      "Epoch 19/50\n",
      "60000/60000 [==============================] - 1s 17us/step - loss: 0.2369 - acc: 0.9336 - val_loss: 0.2269 - val_acc: 0.9341\n",
      "Epoch 20/50\n",
      "60000/60000 [==============================] - 1s 18us/step - loss: 0.2322 - acc: 0.9350 - val_loss: 0.2236 - val_acc: 0.9366\n",
      "Epoch 21/50\n",
      "60000/60000 [==============================] - 1s 18us/step - loss: 0.2278 - acc: 0.9366 - val_loss: 0.2194 - val_acc: 0.9370\n",
      "Epoch 22/50\n",
      "60000/60000 [==============================] - 1s 17us/step - loss: 0.2235 - acc: 0.9377 - val_loss: 0.2151 - val_acc: 0.9375\n",
      "Epoch 23/50\n",
      "60000/60000 [==============================] - 1s 18us/step - loss: 0.2196 - acc: 0.9385 - val_loss: 0.2114 - val_acc: 0.9381\n",
      "Epoch 24/50\n",
      "60000/60000 [==============================] - 1s 18us/step - loss: 0.2157 - acc: 0.9399 - val_loss: 0.2087 - val_acc: 0.9407\n",
      "Epoch 25/50\n",
      "60000/60000 [==============================] - 1s 18us/step - loss: 0.2120 - acc: 0.9404 - val_loss: 0.2053 - val_acc: 0.9412\n",
      "Epoch 26/50\n",
      "60000/60000 [==============================] - 1s 18us/step - loss: 0.2083 - acc: 0.9416 - val_loss: 0.2015 - val_acc: 0.9419\n",
      "Epoch 27/50\n",
      "60000/60000 [==============================] - 1s 18us/step - loss: 0.2048 - acc: 0.9424 - val_loss: 0.1989 - val_acc: 0.9432\n",
      "Epoch 28/50\n",
      "60000/60000 [==============================] - 1s 17us/step - loss: 0.2015 - acc: 0.9431 - val_loss: 0.1959 - val_acc: 0.9434\n",
      "Epoch 29/50\n",
      "60000/60000 [==============================] - 1s 18us/step - loss: 0.1983 - acc: 0.9443 - val_loss: 0.1934 - val_acc: 0.9444\n",
      "Epoch 30/50\n",
      "60000/60000 [==============================] - 1s 18us/step - loss: 0.1952 - acc: 0.9450 - val_loss: 0.1908 - val_acc: 0.9459\n",
      "Epoch 31/50\n",
      "60000/60000 [==============================] - 1s 18us/step - loss: 0.1921 - acc: 0.9459 - val_loss: 0.1879 - val_acc: 0.9468\n",
      "Epoch 32/50\n",
      "60000/60000 [==============================] - 1s 18us/step - loss: 0.1892 - acc: 0.9470 - val_loss: 0.1857 - val_acc: 0.9475\n",
      "Epoch 33/50\n",
      "60000/60000 [==============================] - 1s 17us/step - loss: 0.1865 - acc: 0.9476 - val_loss: 0.1836 - val_acc: 0.9477\n",
      "Epoch 34/50\n",
      "60000/60000 [==============================] - 1s 18us/step - loss: 0.1837 - acc: 0.9485 - val_loss: 0.1804 - val_acc: 0.9491\n",
      "Epoch 35/50\n",
      "60000/60000 [==============================] - 1s 18us/step - loss: 0.1811 - acc: 0.9492 - val_loss: 0.1785 - val_acc: 0.9488\n",
      "Epoch 36/50\n",
      "60000/60000 [==============================] - 1s 18us/step - loss: 0.1785 - acc: 0.9496 - val_loss: 0.1756 - val_acc: 0.9503\n",
      "Epoch 37/50\n",
      "60000/60000 [==============================] - 1s 17us/step - loss: 0.1761 - acc: 0.9506 - val_loss: 0.1738 - val_acc: 0.9503\n",
      "Epoch 38/50\n",
      "60000/60000 [==============================] - 1s 18us/step - loss: 0.1737 - acc: 0.9514 - val_loss: 0.1725 - val_acc: 0.9509\n",
      "Epoch 39/50\n",
      "60000/60000 [==============================] - 1s 17us/step - loss: 0.1713 - acc: 0.9517 - val_loss: 0.1705 - val_acc: 0.9509\n",
      "Epoch 40/50\n",
      "60000/60000 [==============================] - 1s 18us/step - loss: 0.1691 - acc: 0.9528 - val_loss: 0.1679 - val_acc: 0.9515\n",
      "Epoch 41/50\n",
      "60000/60000 [==============================] - 1s 17us/step - loss: 0.1669 - acc: 0.9534 - val_loss: 0.1662 - val_acc: 0.9529\n",
      "Epoch 42/50\n",
      "60000/60000 [==============================] - 1s 17us/step - loss: 0.1647 - acc: 0.9540 - val_loss: 0.1648 - val_acc: 0.9527\n",
      "Epoch 43/50\n",
      "60000/60000 [==============================] - 1s 18us/step - loss: 0.1627 - acc: 0.9549 - val_loss: 0.1629 - val_acc: 0.9535\n",
      "Epoch 44/50\n",
      "60000/60000 [==============================] - 1s 18us/step - loss: 0.1607 - acc: 0.9551 - val_loss: 0.1606 - val_acc: 0.9535\n",
      "Epoch 45/50\n",
      "60000/60000 [==============================] - 1s 18us/step - loss: 0.1587 - acc: 0.9558 - val_loss: 0.1593 - val_acc: 0.9542\n",
      "Epoch 46/50\n",
      "60000/60000 [==============================] - 1s 18us/step - loss: 0.1568 - acc: 0.9563 - val_loss: 0.1574 - val_acc: 0.9546\n",
      "Epoch 47/50\n",
      "60000/60000 [==============================] - 1s 17us/step - loss: 0.1549 - acc: 0.9569 - val_loss: 0.1561 - val_acc: 0.9551\n",
      "Epoch 48/50\n",
      "60000/60000 [==============================] - 1s 17us/step - loss: 0.1531 - acc: 0.9574 - val_loss: 0.1544 - val_acc: 0.9553\n",
      "Epoch 49/50\n",
      "60000/60000 [==============================] - 1s 18us/step - loss: 0.1513 - acc: 0.9576 - val_loss: 0.1529 - val_acc: 0.9558\n",
      "Epoch 50/50\n",
      "60000/60000 [==============================] - 1s 18us/step - loss: 0.1496 - acc: 0.9587 - val_loss: 0.1517 - val_acc: 0.9572\n"
     ]
    }
   ],
   "source": [
    "model = Sequential()\n",
    "model.add(Dense(units=64, input_dim=28*28, activation='relu'))\n",
    "model.add(Dense(units=10, activation='softmax'))\n",
    "model.compile(loss='categorical_crossentropy', optimizer='sgd', metrics=['accuracy'])\n",
    "hist = model.fit(X_train, Y_train,\n",
    "                 batch_size=128,\n",
    "                 epochs=50,\n",
    "                 verbose=1, \n",
    "                 validation_data=(X_test, Y_test))"
   ]
  },
  {
   "cell_type": "code",
   "execution_count": 9,
   "metadata": {},
   "outputs": [
    {
     "name": "stdout",
     "output_type": "stream",
     "text": [
      "10000/10000 [==============================] - 0s 25us/step\n"
     ]
    }
   ],
   "source": [
    "loss_and_metrics = model.evaluate(X_test, Y_test, batch_size=32)"
   ]
  },
  {
   "cell_type": "code",
   "execution_count": 10,
   "metadata": {},
   "outputs": [
    {
     "name": "stdout",
     "output_type": "stream",
     "text": [
      "loss_and_metrics : [0.15169729749560357, 0.9572]\n"
     ]
    }
   ],
   "source": [
    "print('loss_and_metrics : ' + str(loss_and_metrics))"
   ]
  },
  {
   "cell_type": "code",
   "execution_count": 11,
   "metadata": {},
   "outputs": [
    {
     "data": {
      "image/png": "[encoded data removed]",
      "text/plain": [
       "<Figure size 432x288 with 1 Axes>"
      ]
     },
     "metadata": {
      "needs_background": "light"
     },
     "output_type": "display_data"
    }
   ],
   "source": [
    "%matplotlib inline\n",
    "import matplotlib.pyplot as plt\n",
    "\n",
    "fig, loss_ax = plt.subplots()\n",
    "\n",
    "loss_ax.plot(hist.history['loss'], 'b', label='train loss')\n",
    "loss_ax.plot(hist.history['val_loss'], 'r', label='test loss')\n",
    "\n",
    "loss_ax.set_xlabel('epoch')\n",
    "loss_ax.set_ylabel('loss')\n",
    "\n",
    "loss_ax.legend(loc='upper right')\n",
    "\n",
    "plt.show()"
   ]
  },
  {
   "cell_type": "code",
   "execution_count": 12,
   "metadata": {},
   "outputs": [
    {
     "data": {
      "image/png": "[encoded data removed]",
      "text/plain": [
       "<Figure size 432x288 with 1 Axes>"
      ]
     },
     "metadata": {
      "needs_background": "light"
     },
     "output_type": "display_data"
    }
   ],
   "source": [
    "fig, loss_ax = plt.subplots()\n",
    "\n",
    "loss_ax.plot(hist.history['acc'], 'b', label='train accuracy')\n",
    "loss_ax.plot(hist.history['val_acc'], 'r', label='test accuracy')\n",
    "\n",
    "loss_ax.set_xlabel('epoch')\n",
    "loss_ax.set_ylabel('accuracy')\n",
    "\n",
    "loss_ax.legend(loc='upper right')\n",
    "\n",
    "plt.show()"
   ]
  },
  {
   "cell_type": "code",
   "execution_count": 13,
   "metadata": {},
   "outputs": [
    {
     "data": {
      "image/svg+xml": [
       "<svg height=\"211pt\" viewBox=\"0.00 0.00 251.00 211.00\" width=\"251pt\" xmlns=\"http://www.w3.org/2000/svg\" xmlns:xlink=\"http://www.w3.org/1999/xlink\">\n",
       "<g class=\"graph\" id=\"graph0\" transform=\"scale(1 1) rotate(0) translate(4 207)\">\n",
       "<title>G</title>\n",
       "<polygon fill=\"white\" points=\"-4,4 -4,-207 247,-207 247,4 -4,4\" stroke=\"none\"/>\n",
       "<!-- 2372694736568 -->\n",
       "<g class=\"node\" id=\"node1\"><title>2372694736568</title>\n",
       "<polygon fill=\"none\" points=\"0,-83.5 0,-129.5 243,-129.5 243,-83.5 0,-83.5\" stroke=\"black\"/>\n",
       "<text font-family=\"Times New Roman,serif\" font-size=\"14.00\" text-anchor=\"middle\" x=\"52\" y=\"-102.8\">dense_3: Dense</text>\n",
       "<polyline fill=\"none\" points=\"104,-83.5 104,-129.5 \" stroke=\"black\"/>\n",
       "<text font-family=\"Times New Roman,serif\" font-size=\"14.00\" text-anchor=\"middle\" x=\"132\" y=\"-114.3\">input:</text>\n",
       "<polyline fill=\"none\" points=\"104,-106.5 160,-106.5 \" stroke=\"black\"/>\n",
       "<text font-family=\"Times New Roman,serif\" font-size=\"14.00\" text-anchor=\"middle\" x=\"132\" y=\"-91.3\">output:</text>\n",
       "<polyline fill=\"none\" points=\"160,-83.5 160,-129.5 \" stroke=\"black\"/>\n",
       "<text font-family=\"Times New Roman,serif\" font-size=\"14.00\" text-anchor=\"middle\" x=\"201.5\" y=\"-114.3\">(None, 784)</text>\n",
       "<polyline fill=\"none\" points=\"160,-106.5 243,-106.5 \" stroke=\"black\"/>\n",
       "<text font-family=\"Times New Roman,serif\" font-size=\"14.00\" text-anchor=\"middle\" x=\"201.5\" y=\"-91.3\">(None, 64)</text>\n",
       "</g>\n",
       "<!-- 2372694322816 -->\n",
       "<g class=\"node\" id=\"node2\"><title>2372694322816</title>\n",
       "<polygon fill=\"none\" points=\"3,-0.5 3,-46.5 240,-46.5 240,-0.5 3,-0.5\" stroke=\"black\"/>\n",
       "<text font-family=\"Times New Roman,serif\" font-size=\"14.00\" text-anchor=\"middle\" x=\"55\" y=\"-19.8\">dense_4: Dense</text>\n",
       "<polyline fill=\"none\" points=\"107,-0.5 107,-46.5 \" stroke=\"black\"/>\n",
       "<text font-family=\"Times New Roman,serif\" font-size=\"14.00\" text-anchor=\"middle\" x=\"135\" y=\"-31.3\">input:</text>\n",
       "<polyline fill=\"none\" points=\"107,-23.5 163,-23.5 \" stroke=\"black\"/>\n",
       "<text font-family=\"Times New Roman,serif\" font-size=\"14.00\" text-anchor=\"middle\" x=\"135\" y=\"-8.3\">output:</text>\n",
       "<polyline fill=\"none\" points=\"163,-0.5 163,-46.5 \" stroke=\"black\"/>\n",
       "<text font-family=\"Times New Roman,serif\" font-size=\"14.00\" text-anchor=\"middle\" x=\"201.5\" y=\"-31.3\">(None, 64)</text>\n",
       "<polyline fill=\"none\" points=\"163,-23.5 240,-23.5 \" stroke=\"black\"/>\n",
       "<text font-family=\"Times New Roman,serif\" font-size=\"14.00\" text-anchor=\"middle\" x=\"201.5\" y=\"-8.3\">(None, 10)</text>\n",
       "</g>\n",
       "<!-- 2372694736568&#45;&gt;2372694322816 -->\n",
       "<g class=\"edge\" id=\"edge2\"><title>2372694736568-&gt;2372694322816</title>\n",
       "<path d=\"M121.5,-83.3664C121.5,-75.1516 121.5,-65.6579 121.5,-56.7252\" fill=\"none\" stroke=\"black\"/>\n",
       "<polygon fill=\"black\" points=\"125,-56.6068 121.5,-46.6068 118,-56.6069 125,-56.6068\" stroke=\"black\"/>\n",
       "</g>\n",
       "<!-- 2372694732984 -->\n",
       "<g class=\"node\" id=\"node3\"><title>2372694732984</title>\n",
       "<polygon fill=\"none\" points=\"69.5,-166.5 69.5,-202.5 173.5,-202.5 173.5,-166.5 69.5,-166.5\" stroke=\"black\"/>\n",
       "<text font-family=\"Times New Roman,serif\" font-size=\"14.00\" text-anchor=\"middle\" x=\"121.5\" y=\"-180.8\">2372694732984</text>\n",
       "</g>\n",
       "<!-- 2372694732984&#45;&gt;2372694736568 -->\n",
       "<g class=\"edge\" id=\"edge1\"><title>2372694732984-&gt;2372694736568</title>\n",
       "<path d=\"M121.5,-166.254C121.5,-158.363 121.5,-148.749 121.5,-139.602\" fill=\"none\" stroke=\"black\"/>\n",
       "<polygon fill=\"black\" points=\"125,-139.591 121.5,-129.591 118,-139.591 125,-139.591\" stroke=\"black\"/>\n",
       "</g>\n",
       "</g>\n",
       "</svg>"
      ],
      "text/plain": [
       "<IPython.core.display.SVG object>"
      ]
     },
     "execution_count": 13,
     "metadata": {},
     "output_type": "execute_result"
    }
   ],
   "source": [
    "from IPython.display import SVG\n",
    "from keras.utils.vis_utils import model_to_dot\n",
    "\n",
    "%matplotlib inline\n",
    "\n",
    "SVG(model_to_dot(model, show_shapes=True).create(prog='dot', format='svg'))"
   ]
  },
  {
   "cell_type": "code",
   "execution_count": null,
   "metadata": {},
   "outputs": [],
   "source": []
  }
 ],
 "metadata": {
  "kernelspec": {
   "display_name": "Python 3",
   "language": "python",
   "name": "python3"
  },
  "language_info": {
   "codemirror_mode": {
    "name": "ipython",
    "version": 3
   },
   "file_extension": ".py",
   "mimetype": "text/x-python",
   "name": "python",
   "nbconvert_exporter": "python",
   "pygments_lexer": "ipython3",
   "version": "3.7.3"
  }
 },
 "nbformat": 4,
 "nbformat_minor": 4
}
