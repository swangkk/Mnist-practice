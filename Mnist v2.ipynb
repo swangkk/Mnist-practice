{
 "cells": [
  {
   "cell_type": "code",
   "execution_count": 1,
   "metadata": {},
   "outputs": [
    {
     "name": "stderr",
     "output_type": "stream",
     "text": [
      "Using TensorFlow backend.\n"
     ]
    }
   ],
   "source": [
    "import sys\n",
    "import tensorflow as tf\n",
    "import keras\n",
    "from keras.utils import np_utils\n",
    "from keras.datasets import mnist\n",
    "from keras.models import Sequential\n",
    "from keras.layers import Dense, Activation, Dropout, Flatten\n",
    "from keras.layers.convolutional import Conv2D, MaxPooling2D"
   ]
  },
  {
   "cell_type": "code",
   "execution_count": 2,
   "metadata": {},
   "outputs": [],
   "source": [
    "import pandas as pd\n",
    "import numpy as np"
   ]
  },
  {
   "cell_type": "code",
   "execution_count": 3,
   "metadata": {},
   "outputs": [],
   "source": [
    "(X_train, Y_train), (X_test, Y_test) = mnist.load_data()"
   ]
  },
  {
   "cell_type": "code",
   "execution_count": 4,
   "metadata": {},
   "outputs": [],
   "source": [
    "#X_train = X_train.reshape(60000, 784).astype('float32') / 255.0\n",
    "#X_test = X_test.reshape(10000, 784).astype('float32') / 255.0\n",
    "#Y_train = np_utils.to_categorical(Y_train)\n",
    "#Y_test = np_utils.to_categorical(Y_test)\n",
    "###"
   ]
  },
  {
   "cell_type": "code",
   "execution_count": 5,
   "metadata": {},
   "outputs": [
    {
     "name": "stdout",
     "output_type": "stream",
     "text": [
      "X_train shape: (60000, 28, 28, 1)\n",
      "60000 train samples\n",
      "10000 test samples\n"
     ]
    }
   ],
   "source": [
    "input_shape = (28, 28, 1)\n",
    "X_train = X_train.reshape(X_train.shape[0], 28, 28, 1)\n",
    "X_test = X_test.reshape(X_test.shape[0], 28, 28, 1)\n",
    "\n",
    "X_train = X_train.astype('float32') / 255.\n",
    "X_test = X_test.astype('float32') / 255.\n",
    "\n",
    "print('X_train shape:', X_train.shape)\n",
    "print(X_train.shape[0], 'train samples')\n",
    "print(X_test.shape[0], 'test samples')\n",
    "\n",
    "\n",
    "#num_classes = 10\n",
    "\n",
    "\n",
    "Y_train = keras.utils.to_categorical(Y_train, 10)\n",
    "Y_test = keras.utils.to_categorical(Y_test, 10)"
   ]
  },
  {
   "cell_type": "code",
   "execution_count": 6,
   "metadata": {},
   "outputs": [],
   "source": [
    "#input data 가시화\n",
    "df_data=mnist.load_data()\n"
   ]
  },
  {
   "cell_type": "code",
   "execution_count": 7,
   "metadata": {},
   "outputs": [
    {
     "name": "stdout",
     "output_type": "stream",
     "text": [
      "(60000, 28, 28, 1)\n",
      "(60000, 10)\n"
     ]
    }
   ],
   "source": [
    "print(X_train.shape)\n",
    "print(Y_train.shape)\n",
    "#Y_train.head()"
   ]
  },
  {
   "cell_type": "code",
   "execution_count": 9,
   "metadata": {},
   "outputs": [],
   "source": [
    "#model = Sequential()\n",
    "#model.add(Dense(units=64, input_dim=28*28, activation='relu'))\n",
    "#model.add(Dense(units=10, activation='softmax'))\n"
   ]
  },
  {
   "cell_type": "code",
   "execution_count": 19,
   "metadata": {},
   "outputs": [
    {
     "name": "stdout",
     "output_type": "stream",
     "text": [
      "WARNING:tensorflow:From C:\\Users\\YooSeok\\Anaconda3\\envs\\Keras\\lib\\site-packages\\keras\\backend\\tensorflow_backend.py:3445: calling dropout (from tensorflow.python.ops.nn_ops) with keep_prob is deprecated and will be removed in a future version.\n",
      "Instructions for updating:\n",
      "Please use `rate` instead of `keep_prob`. Rate should be set to `rate = 1 - keep_prob`.\n",
      "_________________________________________________________________\n",
      "Layer (type)                 Output Shape              Param #   \n",
      "=================================================================\n",
      "conv2d_3 (Conv2D)            (None, 28, 28, 32)        832       \n",
      "_________________________________________________________________\n",
      "max_pooling2d_3 (MaxPooling2 (None, 14, 14, 32)        0         \n",
      "_________________________________________________________________\n",
      "dropout_1 (Dropout)          (None, 14, 14, 32)        0         \n",
      "_________________________________________________________________\n",
      "flatten_3 (Flatten)          (None, 6272)              0         \n",
      "_________________________________________________________________\n",
      "dense_5 (Dense)              (None, 64)                401472    \n",
      "_________________________________________________________________\n",
      "dropout_2 (Dropout)          (None, 64)                0         \n",
      "_________________________________________________________________\n",
      "dense_6 (Dense)              (None, 10)                650       \n",
      "=================================================================\n",
      "Total params: 402,954\n",
      "Trainable params: 402,954\n",
      "Non-trainable params: 0\n",
      "_________________________________________________________________\n"
     ]
    }
   ],
   "source": [
    "#CNN 구현\n",
    "model = Sequential()\n",
    "model.add(Conv2D(32, kernel_size=(5, 5), strides=(1, 1), padding='same',\n",
    "                 activation='relu',\n",
    "                 input_shape=input_shape))\n",
    "model.add(MaxPooling2D(pool_size=(2, 2), strides=(2, 2)))\n",
    "#model.add(Conv2D(64, (2, 2), activation='relu', padding='same'))\n",
    "#model.add(MaxPooling2D(pool_size=(2, 2)))\n",
    "model.add(Dropout(0.25))\n",
    "model.add(Flatten())\n",
    "model.add(Dense(64, activation='relu'))\n",
    "model.add(Dropout(0.5))\n",
    "model.add(Dense(10, activation='softmax'))\n",
    "model.summary()"
   ]
  },
  {
   "cell_type": "code",
   "execution_count": 20,
   "metadata": {},
   "outputs": [],
   "source": [
    "#model.compile(loss='categorical_crossentropy', optimizer='sgd', metrics=['accuracy'])\n",
    "#model.fit(X_train, Y_train, epochs=5, batch_size=32)"
   ]
  },
  {
   "cell_type": "code",
   "execution_count": 21,
   "metadata": {},
   "outputs": [
    {
     "name": "stdout",
     "output_type": "stream",
     "text": [
      "Train on 60000 samples, validate on 10000 samples\n",
      "Epoch 1/50\n",
      "60000/60000 [==============================] - 3s 43us/step - loss: 0.3858 - acc: 0.8835 - val_loss: 0.0850 - val_acc: 0.9731\n",
      "Epoch 2/50\n",
      "60000/60000 [==============================] - 2s 37us/step - loss: 0.1564 - acc: 0.9537 - val_loss: 0.0578 - val_acc: 0.9813\n",
      "Epoch 3/50\n",
      "60000/60000 [==============================] - 2s 36us/step - loss: 0.1219 - acc: 0.9641 - val_loss: 0.0487 - val_acc: 0.9839\n",
      "Epoch 4/50\n",
      "60000/60000 [==============================] - 2s 36us/step - loss: 0.1064 - acc: 0.9690 - val_loss: 0.0418 - val_acc: 0.9860\n",
      "Epoch 5/50\n",
      "60000/60000 [==============================] - 2s 36us/step - loss: 0.0924 - acc: 0.9728 - val_loss: 0.0411 - val_acc: 0.9861\n",
      "Epoch 6/50\n",
      "60000/60000 [==============================] - 2s 36us/step - loss: 0.0830 - acc: 0.9744 - val_loss: 0.0390 - val_acc: 0.9865\n",
      "Epoch 7/50\n",
      "60000/60000 [==============================] - 2s 36us/step - loss: 0.0762 - acc: 0.9767 - val_loss: 0.0371 - val_acc: 0.9879\n",
      "Epoch 8/50\n",
      "60000/60000 [==============================] - 2s 36us/step - loss: 0.0725 - acc: 0.9774 - val_loss: 0.0365 - val_acc: 0.9881\n",
      "Epoch 9/50\n",
      "60000/60000 [==============================] - 2s 37us/step - loss: 0.0647 - acc: 0.9801 - val_loss: 0.0391 - val_acc: 0.9875\n",
      "Epoch 10/50\n",
      "60000/60000 [==============================] - 2s 36us/step - loss: 0.0610 - acc: 0.9814 - val_loss: 0.0359 - val_acc: 0.9890\n",
      "Epoch 11/50\n",
      "60000/60000 [==============================] - 2s 36us/step - loss: 0.0574 - acc: 0.9821 - val_loss: 0.0342 - val_acc: 0.9891\n",
      "Epoch 12/50\n",
      "60000/60000 [==============================] - 2s 36us/step - loss: 0.0563 - acc: 0.9819 - val_loss: 0.0317 - val_acc: 0.9895\n",
      "Epoch 13/50\n",
      "60000/60000 [==============================] - 2s 36us/step - loss: 0.0509 - acc: 0.9838 - val_loss: 0.0313 - val_acc: 0.9903\n",
      "Epoch 14/50\n",
      "60000/60000 [==============================] - 2s 36us/step - loss: 0.0472 - acc: 0.9849 - val_loss: 0.0346 - val_acc: 0.9897\n",
      "Epoch 15/50\n",
      "60000/60000 [==============================] - 2s 36us/step - loss: 0.0491 - acc: 0.9847 - val_loss: 0.0319 - val_acc: 0.9896\n",
      "Epoch 16/50\n",
      "60000/60000 [==============================] - 2s 36us/step - loss: 0.0460 - acc: 0.9851 - val_loss: 0.0347 - val_acc: 0.9899\n",
      "Epoch 17/50\n",
      "60000/60000 [==============================] - 2s 37us/step - loss: 0.0433 - acc: 0.9864 - val_loss: 0.0357 - val_acc: 0.9897\n",
      "Epoch 18/50\n",
      "60000/60000 [==============================] - 2s 36us/step - loss: 0.0420 - acc: 0.9860 - val_loss: 0.0327 - val_acc: 0.9897\n",
      "Epoch 19/50\n",
      "60000/60000 [==============================] - 2s 36us/step - loss: 0.0427 - acc: 0.9863 - val_loss: 0.0393 - val_acc: 0.9884\n",
      "Epoch 20/50\n",
      "60000/60000 [==============================] - 2s 37us/step - loss: 0.0405 - acc: 0.9866 - val_loss: 0.0348 - val_acc: 0.9898\n",
      "Epoch 21/50\n",
      "60000/60000 [==============================] - 2s 38us/step - loss: 0.0382 - acc: 0.9875 - val_loss: 0.0366 - val_acc: 0.9889\n",
      "Epoch 22/50\n",
      "60000/60000 [==============================] - 2s 37us/step - loss: 0.0365 - acc: 0.9876 - val_loss: 0.0355 - val_acc: 0.9902\n",
      "Epoch 23/50\n",
      "60000/60000 [==============================] - 2s 38us/step - loss: 0.0354 - acc: 0.9883 - val_loss: 0.0321 - val_acc: 0.9906\n",
      "Epoch 24/50\n",
      "60000/60000 [==============================] - 2s 38us/step - loss: 0.0356 - acc: 0.9880 - val_loss: 0.0370 - val_acc: 0.9899\n",
      "Epoch 25/50\n",
      "60000/60000 [==============================] - 2s 36us/step - loss: 0.0350 - acc: 0.9883 - val_loss: 0.0348 - val_acc: 0.9904\n",
      "Epoch 26/50\n",
      "60000/60000 [==============================] - 2s 36us/step - loss: 0.0316 - acc: 0.9892 - val_loss: 0.0370 - val_acc: 0.9909\n",
      "Epoch 27/50\n",
      "60000/60000 [==============================] - 2s 36us/step - loss: 0.0314 - acc: 0.9890 - val_loss: 0.0370 - val_acc: 0.9905\n",
      "Epoch 28/50\n",
      "60000/60000 [==============================] - 2s 36us/step - loss: 0.0309 - acc: 0.9895 - val_loss: 0.0401 - val_acc: 0.9897\n",
      "Epoch 29/50\n",
      "60000/60000 [==============================] - 2s 36us/step - loss: 0.0303 - acc: 0.9898 - val_loss: 0.0384 - val_acc: 0.9903\n",
      "Epoch 30/50\n",
      "60000/60000 [==============================] - 2s 36us/step - loss: 0.0312 - acc: 0.9894 - val_loss: 0.0394 - val_acc: 0.9900\n",
      "Epoch 31/50\n",
      "60000/60000 [==============================] - 2s 36us/step - loss: 0.0290 - acc: 0.9900 - val_loss: 0.0397 - val_acc: 0.9897\n",
      "Epoch 32/50\n",
      "60000/60000 [==============================] - 2s 36us/step - loss: 0.0301 - acc: 0.9893 - val_loss: 0.0373 - val_acc: 0.9904\n",
      "Epoch 33/50\n",
      "60000/60000 [==============================] - 2s 37us/step - loss: 0.0284 - acc: 0.9903 - val_loss: 0.0396 - val_acc: 0.9898\n",
      "Epoch 34/50\n",
      "60000/60000 [==============================] - 2s 36us/step - loss: 0.0293 - acc: 0.9901 - val_loss: 0.0369 - val_acc: 0.9901\n",
      "Epoch 35/50\n",
      "60000/60000 [==============================] - 2s 36us/step - loss: 0.0257 - acc: 0.9911 - val_loss: 0.0388 - val_acc: 0.9913\n",
      "Epoch 36/50\n",
      "60000/60000 [==============================] - 2s 37us/step - loss: 0.0284 - acc: 0.9906 - val_loss: 0.0346 - val_acc: 0.9908\n",
      "Epoch 37/50\n",
      "60000/60000 [==============================] - 2s 36us/step - loss: 0.0266 - acc: 0.9910 - val_loss: 0.0393 - val_acc: 0.9902\n",
      "Epoch 38/50\n",
      "60000/60000 [==============================] - 2s 36us/step - loss: 0.0267 - acc: 0.9912 - val_loss: 0.0352 - val_acc: 0.9912\n",
      "Epoch 39/50\n",
      "60000/60000 [==============================] - 2s 37us/step - loss: 0.0257 - acc: 0.9917 - val_loss: 0.0373 - val_acc: 0.9914\n",
      "Epoch 40/50\n",
      "60000/60000 [==============================] - 2s 37us/step - loss: 0.0259 - acc: 0.9911 - val_loss: 0.0366 - val_acc: 0.9900\n",
      "Epoch 41/50\n",
      "60000/60000 [==============================] - 2s 36us/step - loss: 0.0241 - acc: 0.9920 - val_loss: 0.0373 - val_acc: 0.9906\n",
      "Epoch 42/50\n",
      "60000/60000 [==============================] - 2s 36us/step - loss: 0.0251 - acc: 0.9911 - val_loss: 0.0384 - val_acc: 0.9905\n",
      "Epoch 43/50\n",
      "60000/60000 [==============================] - 2s 37us/step - loss: 0.0243 - acc: 0.9921 - val_loss: 0.0367 - val_acc: 0.9914\n",
      "Epoch 44/50\n",
      "60000/60000 [==============================] - 2s 36us/step - loss: 0.0239 - acc: 0.9915 - val_loss: 0.0393 - val_acc: 0.9903\n",
      "Epoch 45/50\n",
      "60000/60000 [==============================] - 2s 36us/step - loss: 0.0243 - acc: 0.9919 - val_loss: 0.0372 - val_acc: 0.9905\n",
      "Epoch 46/50\n",
      "60000/60000 [==============================] - 2s 37us/step - loss: 0.0263 - acc: 0.9911 - val_loss: 0.0424 - val_acc: 0.9905\n",
      "Epoch 47/50\n",
      "60000/60000 [==============================] - 2s 36us/step - loss: 0.0234 - acc: 0.9922 - val_loss: 0.0394 - val_acc: 0.9911\n",
      "Epoch 48/50\n",
      "60000/60000 [==============================] - 2s 37us/step - loss: 0.0228 - acc: 0.9924 - val_loss: 0.0384 - val_acc: 0.9911\n",
      "Epoch 49/50\n",
      "60000/60000 [==============================] - 2s 38us/step - loss: 0.0226 - acc: 0.9920 - val_loss: 0.0412 - val_acc: 0.9916\n",
      "Epoch 50/50\n",
      "60000/60000 [==============================] - 2s 38us/step - loss: 0.0239 - acc: 0.9921 - val_loss: 0.0395 - val_acc: 0.9909\n"
     ]
    }
   ],
   "source": [
    "model.compile(loss='categorical_crossentropy', optimizer='adam', metrics=['accuracy'])\n",
    "hist = model.fit(X_train, Y_train,\n",
    "                 batch_size=128,\n",
    "                 epochs=50,\n",
    "                 verbose=1, \n",
    "                 validation_data=(X_test, Y_test))"
   ]
  },
  {
   "cell_type": "code",
   "execution_count": 22,
   "metadata": {},
   "outputs": [
    {
     "name": "stdout",
     "output_type": "stream",
     "text": [
      "10000/10000 [==============================] - 0s 42us/step\n"
     ]
    }
   ],
   "source": [
    "loss_and_metrics = model.evaluate(X_test, Y_test, batch_size=32)"
   ]
  },
  {
   "cell_type": "code",
   "execution_count": 23,
   "metadata": {},
   "outputs": [
    {
     "name": "stdout",
     "output_type": "stream",
     "text": [
      "loss_and_metrics : [0.03953153069320342, 0.9909]\n"
     ]
    }
   ],
   "source": [
    "print('loss_and_metrics : ' + str(loss_and_metrics))"
   ]
  },
  {
   "cell_type": "code",
   "execution_count": 24,
   "metadata": {},
   "outputs": [
    {
     "data": {
      "image/png": "[encoded data removed]",
      "text/plain": [
       "<Figure size 432x288 with 1 Axes>"
      ]
     },
     "metadata": {
      "needs_background": "light"
     },
     "output_type": "display_data"
    }
   ],
   "source": [
    "#loss graph 그리기\n",
    "\n",
    "%matplotlib inline\n",
    "import matplotlib.pyplot as plt\n",
    "\n",
    "fig, loss_ax = plt.subplots()\n",
    "\n",
    "loss_ax.plot(hist.history['loss'], 'b', label='train loss')\n",
    "loss_ax.plot(hist.history['val_loss'], 'r', label='test loss')\n",
    "\n",
    "loss_ax.set_xlabel('epoch')\n",
    "loss_ax.set_ylabel('loss')\n",
    "\n",
    "loss_ax.legend(loc='upper right')\n",
    "\n",
    "plt.show()"
   ]
  },
  {
   "cell_type": "code",
   "execution_count": null,
   "metadata": {},
   "outputs": [],
   "source": [
    "\n"
   ]
  },
  {
   "cell_type": "code",
   "execution_count": null,
   "metadata": {},
   "outputs": [],
   "source": [
    "#모델 Export 와 활용"
   ]
  }
 ],
 "metadata": {
  "kernelspec": {
   "display_name": "Python 3",
   "language": "python",
   "name": "python3"
  },
  "language_info": {
   "codemirror_mode": {
    "name": "ipython",
    "version": 3
   },
   "file_extension": ".py",
   "mimetype": "text/x-python",
   "name": "python",
   "nbconvert_exporter": "python",
   "pygments_lexer": "ipython3",
   "version": "3.7.3"
  }
 },
 "nbformat": 4,
 "nbformat_minor": 4
}
