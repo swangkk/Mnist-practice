{
 "cells": [
  {
   "cell_type": "code",
   "execution_count": 53,
   "metadata": {},
   "outputs": [],
   "source": [
    "import sys\n",
    "import tensorflow as tf\n",
    "import keras\n",
    "from keras.utils import np_utils\n",
    "from keras.datasets import mnist\n",
    "from keras.models import Sequential\n",
    "from keras.layers import Dense, Activation, Dropout, Flatten\n",
    "from keras.layers.convolutional import Conv2D, MaxPooling2D"
   ]
  },
  {
   "cell_type": "code",
   "execution_count": 54,
   "metadata": {},
   "outputs": [],
   "source": [
    "import pandas as pd\n",
    "import numpy as np\n",
    "import matplotlib.pyplot as plt"
   ]
  },
  {
   "cell_type": "code",
   "execution_count": 55,
   "metadata": {},
   "outputs": [],
   "source": [
    "(X_train, Y_train), (X_test, Y_test) = mnist.load_data()"
   ]
  },
  {
   "cell_type": "code",
   "execution_count": 56,
   "metadata": {},
   "outputs": [],
   "source": [
    "#X_train = X_train.reshape(60000, 784).astype('float32') / 255.0\n",
    "#X_test = X_test.reshape(10000, 784).astype('float32') / 255.0\n",
    "#Y_train = np_utils.to_categorical(Y_train)\n",
    "#Y_test = np_utils.to_categorical(Y_test)\n",
    "###"
   ]
  },
  {
   "cell_type": "code",
   "execution_count": 57,
   "metadata": {},
   "outputs": [
    {
     "name": "stdout",
     "output_type": "stream",
     "text": [
      "X_train shape: (60000, 28, 28, 1)\n",
      "60000 train samples\n",
      "10000 test samples\n"
     ]
    }
   ],
   "source": [
    "input_shape = (28, 28, 1)\n",
    "X_train = X_train.reshape(X_train.shape[0], 28, 28, 1)\n",
    "X_test = X_test.reshape(X_test.shape[0], 28, 28, 1)\n",
    "\n",
    "X_train = X_train.astype('float32') / 255.\n",
    "X_test = X_test.astype('float32') / 255.\n",
    "\n",
    "print('X_train shape:', X_train.shape)\n",
    "print(X_train.shape[0], 'train samples')\n",
    "print(X_test.shape[0], 'test samples')\n",
    "\n",
    "\n",
    "#num_classes = 10\n",
    "\n",
    "\n",
    "Y_train = keras.utils.to_categorical(Y_train, 10)\n",
    "Y_test = keras.utils.to_categorical(Y_test, 10)"
   ]
  },
  {
   "cell_type": "code",
   "execution_count": 58,
   "metadata": {},
   "outputs": [
    {
     "name": "stdout",
     "output_type": "stream",
     "text": [
      "<class 'tuple'>\n",
      "2\n",
      "<class 'tuple'>\n",
      "2\n"
     ]
    }
   ],
   "source": [
    "#input data 가시화\n",
    "df_data=mnist.load_data()\n",
    "print(type(df_data))\n",
    "print(len(df_data))\n",
    "Train,Test=df_data\n",
    "print(type(Train))\n",
    "print(len(Train))\n",
    "Xtr,Ytr=Train"
   ]
  },
  {
   "cell_type": "code",
   "execution_count": 59,
   "metadata": {},
   "outputs": [
    {
     "name": "stdout",
     "output_type": "stream",
     "text": [
      "(60000, 28, 28)\n",
      "(60000,)\n",
      "[5 0 4 ... 5 6 8]\n"
     ]
    }
   ],
   "source": [
    "print(Xtr.shape)\n",
    "print(Ytr.shape)\n",
    "print(Ytr)\n"
   ]
  },
  {
   "cell_type": "code",
   "execution_count": 60,
   "metadata": {},
   "outputs": [
    {
     "data": {
      "image/png": "[encoded data removed]",
      "text/plain": [
       "<Figure size 360x360 with 1 Axes>"
      ]
     },
     "metadata": {
      "needs_background": "light"
     },
     "output_type": "display_data"
    },
    {
     "name": "stdout",
     "output_type": "stream",
     "text": [
      "0\n"
     ]
    }
   ],
   "source": [
    "#이미지 나타내기\n",
    "imnum=1\n",
    "plt.figure(figsize=(5, 5))\n",
    "image = np.reshape(Xtr[imnum], [28, 28])\n",
    "plt.imshow(image, cmap='Greys')\n",
    "plt.show()\n",
    "\n",
    "print(Ytr[imnum])"
   ]
  },
  {
   "cell_type": "code",
   "execution_count": 61,
   "metadata": {},
   "outputs": [
    {
     "name": "stdout",
     "output_type": "stream",
     "text": [
      "(60000, 28, 28, 1)\n",
      "(60000, 10)\n"
     ]
    }
   ],
   "source": [
    "print(X_train.shape)\n",
    "print(Y_train.shape)\n",
    "#Y_train.head()"
   ]
  },
  {
   "cell_type": "code",
   "execution_count": 62,
   "metadata": {},
   "outputs": [],
   "source": [
    "#model = Sequential()\n",
    "#model.add(Dense(units=64, input_dim=28*28, activation='relu'))\n",
    "#model.add(Dense(units=10, activation='softmax'))\n"
   ]
  },
  {
   "cell_type": "code",
   "execution_count": 63,
   "metadata": {},
   "outputs": [
    {
     "name": "stdout",
     "output_type": "stream",
     "text": [
      "WARNING:tensorflow:From C:\\Users\\YooSeok\\Anaconda3\\envs\\Keras\\lib\\site-packages\\tensorflow\\python\\framework\\op_def_library.py:263: colocate_with (from tensorflow.python.framework.ops) is deprecated and will be removed in a future version.\n",
      "Instructions for updating:\n",
      "Colocations handled automatically by placer.\n",
      "WARNING:tensorflow:From C:\\Users\\YooSeok\\Anaconda3\\envs\\Keras\\lib\\site-packages\\keras\\backend\\tensorflow_backend.py:3445: calling dropout (from tensorflow.python.ops.nn_ops) with keep_prob is deprecated and will be removed in a future version.\n",
      "Instructions for updating:\n",
      "Please use `rate` instead of `keep_prob`. Rate should be set to `rate = 1 - keep_prob`.\n",
      "_________________________________________________________________\n",
      "Layer (type)                 Output Shape              Param #   \n",
      "=================================================================\n",
      "conv2d_1 (Conv2D)            (None, 28, 28, 32)        832       \n",
      "_________________________________________________________________\n",
      "max_pooling2d_1 (MaxPooling2 (None, 14, 14, 32)        0         \n",
      "_________________________________________________________________\n",
      "dropout_1 (Dropout)          (None, 14, 14, 32)        0         \n",
      "_________________________________________________________________\n",
      "flatten_1 (Flatten)          (None, 6272)              0         \n",
      "_________________________________________________________________\n",
      "dense_1 (Dense)              (None, 64)                401472    \n",
      "_________________________________________________________________\n",
      "dropout_2 (Dropout)          (None, 64)                0         \n",
      "_________________________________________________________________\n",
      "dense_2 (Dense)              (None, 10)                650       \n",
      "=================================================================\n",
      "Total params: 402,954\n",
      "Trainable params: 402,954\n",
      "Non-trainable params: 0\n",
      "_________________________________________________________________\n"
     ]
    }
   ],
   "source": [
    "#CNN 구현\n",
    "model = Sequential()\n",
    "model.add(Conv2D(32, kernel_size=(5, 5), strides=(1, 1), padding='same',\n",
    "                 activation='relu',\n",
    "                 input_shape=input_shape))\n",
    "model.add(MaxPooling2D(pool_size=(2, 2), strides=(2, 2)))\n",
    "#model.add(Conv2D(64, (2, 2), activation='relu', padding='same'))\n",
    "#model.add(MaxPooling2D(pool_size=(2, 2)))\n",
    "model.add(Dropout(0.25))\n",
    "model.add(Flatten())\n",
    "model.add(Dense(64, activation='relu'))\n",
    "model.add(Dropout(0.5))\n",
    "model.add(Dense(10, activation='softmax'))\n",
    "model.summary()"
   ]
  },
  {
   "cell_type": "code",
   "execution_count": 64,
   "metadata": {},
   "outputs": [],
   "source": [
    "#model.compile(loss='categorical_crossentropy', optimizer='sgd', metrics=['accuracy'])\n",
    "#model.fit(X_train, Y_train, epochs=5, batch_size=32)"
   ]
  },
  {
   "cell_type": "code",
   "execution_count": 65,
   "metadata": {},
   "outputs": [
    {
     "name": "stdout",
     "output_type": "stream",
     "text": [
      "WARNING:tensorflow:From C:\\Users\\YooSeok\\Anaconda3\\envs\\Keras\\lib\\site-packages\\tensorflow\\python\\ops\\math_ops.py:3066: to_int32 (from tensorflow.python.ops.math_ops) is deprecated and will be removed in a future version.\n",
      "Instructions for updating:\n",
      "Use tf.cast instead.\n",
      "Train on 60000 samples, validate on 10000 samples\n",
      "Epoch 1/50\n",
      "60000/60000 [==============================] - 5s 92us/step - loss: 0.4008 - acc: 0.8787 - val_loss: 0.0943 - val_acc: 0.9706\n",
      "Epoch 2/50\n",
      "60000/60000 [==============================] - 2s 38us/step - loss: 0.1646 - acc: 0.9521 - val_loss: 0.0610 - val_acc: 0.9813\n",
      "Epoch 3/50\n",
      "60000/60000 [==============================] - 2s 38us/step - loss: 0.1230 - acc: 0.9634 - val_loss: 0.0462 - val_acc: 0.9853\n",
      "Epoch 4/50\n",
      "60000/60000 [==============================] - 2s 39us/step - loss: 0.1048 - acc: 0.9692 - val_loss: 0.0437 - val_acc: 0.9847\n",
      "Epoch 5/50\n",
      "60000/60000 [==============================] - 2s 38us/step - loss: 0.0934 - acc: 0.9717 - val_loss: 0.0395 - val_acc: 0.9864\n",
      "Epoch 6/50\n",
      "60000/60000 [==============================] - 2s 39us/step - loss: 0.0843 - acc: 0.9748 - val_loss: 0.0361 - val_acc: 0.9874\n",
      "Epoch 7/50\n",
      "60000/60000 [==============================] - 2s 39us/step - loss: 0.0777 - acc: 0.9765 - val_loss: 0.0366 - val_acc: 0.9876\n",
      "Epoch 8/50\n",
      "60000/60000 [==============================] - 2s 38us/step - loss: 0.0723 - acc: 0.9783 - val_loss: 0.0358 - val_acc: 0.9877\n",
      "Epoch 9/50\n",
      "60000/60000 [==============================] - 2s 37us/step - loss: 0.0660 - acc: 0.9794 - val_loss: 0.0358 - val_acc: 0.9878\n",
      "Epoch 10/50\n",
      "60000/60000 [==============================] - 2s 38us/step - loss: 0.0639 - acc: 0.9801 - val_loss: 0.0348 - val_acc: 0.9889\n",
      "Epoch 11/50\n",
      "60000/60000 [==============================] - 2s 38us/step - loss: 0.0595 - acc: 0.9813 - val_loss: 0.0322 - val_acc: 0.9889\n",
      "Epoch 12/50\n",
      "60000/60000 [==============================] - 2s 38us/step - loss: 0.0553 - acc: 0.9827 - val_loss: 0.0343 - val_acc: 0.9885\n",
      "Epoch 13/50\n",
      "60000/60000 [==============================] - 2s 39us/step - loss: 0.0515 - acc: 0.9839 - val_loss: 0.0331 - val_acc: 0.9891\n",
      "Epoch 14/50\n",
      "60000/60000 [==============================] - 2s 38us/step - loss: 0.0518 - acc: 0.9837 - val_loss: 0.0328 - val_acc: 0.9899\n",
      "Epoch 15/50\n",
      "60000/60000 [==============================] - 2s 39us/step - loss: 0.0491 - acc: 0.9840 - val_loss: 0.0312 - val_acc: 0.9912\n",
      "Epoch 16/50\n",
      "60000/60000 [==============================] - 2s 38us/step - loss: 0.0473 - acc: 0.9854 - val_loss: 0.0327 - val_acc: 0.9902\n",
      "Epoch 17/50\n",
      "60000/60000 [==============================] - 2s 39us/step - loss: 0.0467 - acc: 0.9845 - val_loss: 0.0357 - val_acc: 0.9898\n",
      "Epoch 18/50\n",
      "60000/60000 [==============================] - 2s 38us/step - loss: 0.0437 - acc: 0.9853 - val_loss: 0.0326 - val_acc: 0.9909\n",
      "Epoch 19/50\n",
      "60000/60000 [==============================] - 2s 38us/step - loss: 0.0427 - acc: 0.9855 - val_loss: 0.0343 - val_acc: 0.9902\n",
      "Epoch 20/50\n",
      "60000/60000 [==============================] - 2s 38us/step - loss: 0.0407 - acc: 0.9871 - val_loss: 0.0334 - val_acc: 0.9906\n",
      "Epoch 21/50\n",
      "60000/60000 [==============================] - 2s 38us/step - loss: 0.0384 - acc: 0.9877 - val_loss: 0.0339 - val_acc: 0.9905\n",
      "Epoch 22/50\n",
      "60000/60000 [==============================] - 2s 38us/step - loss: 0.0381 - acc: 0.9876 - val_loss: 0.0350 - val_acc: 0.9906\n",
      "Epoch 23/50\n",
      "60000/60000 [==============================] - 2s 38us/step - loss: 0.0366 - acc: 0.9875 - val_loss: 0.0366 - val_acc: 0.9897\n",
      "Epoch 24/50\n",
      "60000/60000 [==============================] - 2s 37us/step - loss: 0.0372 - acc: 0.9881 - val_loss: 0.0326 - val_acc: 0.9908\n",
      "Epoch 25/50\n",
      "60000/60000 [==============================] - 2s 37us/step - loss: 0.0346 - acc: 0.9883 - val_loss: 0.0328 - val_acc: 0.9904\n",
      "Epoch 26/50\n",
      "60000/60000 [==============================] - 2s 38us/step - loss: 0.0319 - acc: 0.9892 - val_loss: 0.0345 - val_acc: 0.9912\n",
      "Epoch 27/50\n",
      "60000/60000 [==============================] - 2s 38us/step - loss: 0.0350 - acc: 0.9884 - val_loss: 0.0347 - val_acc: 0.9906\n",
      "Epoch 28/50\n",
      "60000/60000 [==============================] - 2s 38us/step - loss: 0.0334 - acc: 0.9889 - val_loss: 0.0329 - val_acc: 0.9912\n",
      "Epoch 29/50\n",
      "60000/60000 [==============================] - 2s 38us/step - loss: 0.0308 - acc: 0.9895 - val_loss: 0.0374 - val_acc: 0.9901\n",
      "Epoch 30/50\n",
      "60000/60000 [==============================] - 2s 38us/step - loss: 0.0299 - acc: 0.9899 - val_loss: 0.0368 - val_acc: 0.9906\n",
      "Epoch 31/50\n",
      "60000/60000 [==============================] - 2s 37us/step - loss: 0.0308 - acc: 0.9894 - val_loss: 0.0364 - val_acc: 0.9911\n",
      "Epoch 32/50\n",
      "60000/60000 [==============================] - 2s 38us/step - loss: 0.0304 - acc: 0.9896 - val_loss: 0.0346 - val_acc: 0.9913\n",
      "Epoch 33/50\n",
      "60000/60000 [==============================] - 2s 37us/step - loss: 0.0301 - acc: 0.9900 - val_loss: 0.0361 - val_acc: 0.9911\n",
      "Epoch 34/50\n",
      "60000/60000 [==============================] - 2s 37us/step - loss: 0.0286 - acc: 0.9902 - val_loss: 0.0354 - val_acc: 0.9913\n",
      "Epoch 35/50\n",
      "60000/60000 [==============================] - 2s 38us/step - loss: 0.0295 - acc: 0.9900 - val_loss: 0.0319 - val_acc: 0.9910\n",
      "Epoch 36/50\n",
      "60000/60000 [==============================] - 2s 37us/step - loss: 0.0272 - acc: 0.9903 - val_loss: 0.0349 - val_acc: 0.9913\n",
      "Epoch 37/50\n",
      "60000/60000 [==============================] - 2s 37us/step - loss: 0.0267 - acc: 0.9909 - val_loss: 0.0381 - val_acc: 0.9906\n",
      "Epoch 38/50\n",
      "60000/60000 [==============================] - 2s 37us/step - loss: 0.0268 - acc: 0.9912 - val_loss: 0.0352 - val_acc: 0.9910\n",
      "Epoch 39/50\n",
      "60000/60000 [==============================] - 2s 38us/step - loss: 0.0276 - acc: 0.9906 - val_loss: 0.0362 - val_acc: 0.9904\n",
      "Epoch 40/50\n",
      "60000/60000 [==============================] - 2s 38us/step - loss: 0.0263 - acc: 0.9911 - val_loss: 0.0375 - val_acc: 0.9909\n",
      "Epoch 41/50\n",
      "60000/60000 [==============================] - 2s 38us/step - loss: 0.0260 - acc: 0.9911 - val_loss: 0.0354 - val_acc: 0.9912\n",
      "Epoch 42/50\n",
      "60000/60000 [==============================] - 2s 37us/step - loss: 0.0280 - acc: 0.9907 - val_loss: 0.0369 - val_acc: 0.9911\n",
      "Epoch 43/50\n",
      "60000/60000 [==============================] - 2s 37us/step - loss: 0.0248 - acc: 0.9918 - val_loss: 0.0359 - val_acc: 0.9910\n",
      "Epoch 44/50\n",
      "60000/60000 [==============================] - 2s 38us/step - loss: 0.0261 - acc: 0.9912 - val_loss: 0.0391 - val_acc: 0.9913\n",
      "Epoch 45/50\n",
      "60000/60000 [==============================] - 2s 38us/step - loss: 0.0239 - acc: 0.9916 - val_loss: 0.0400 - val_acc: 0.9902\n",
      "Epoch 46/50\n",
      "60000/60000 [==============================] - 2s 38us/step - loss: 0.0262 - acc: 0.9912 - val_loss: 0.0392 - val_acc: 0.9906\n",
      "Epoch 47/50\n",
      "60000/60000 [==============================] - 2s 38us/step - loss: 0.0228 - acc: 0.9922 - val_loss: 0.0379 - val_acc: 0.9912\n",
      "Epoch 48/50\n",
      "60000/60000 [==============================] - 2s 38us/step - loss: 0.0256 - acc: 0.9909 - val_loss: 0.0397 - val_acc: 0.9912\n",
      "Epoch 49/50\n",
      "60000/60000 [==============================] - 2s 37us/step - loss: 0.0221 - acc: 0.9923 - val_loss: 0.0412 - val_acc: 0.9906\n",
      "Epoch 50/50\n",
      "60000/60000 [==============================] - 2s 37us/step - loss: 0.0250 - acc: 0.9915 - val_loss: 0.0402 - val_acc: 0.9910\n"
     ]
    }
   ],
   "source": [
    "model.compile(loss='categorical_crossentropy', optimizer='adam', metrics=['accuracy'])\n",
    "hist = model.fit(X_train, Y_train,\n",
    "                 batch_size=128,\n",
    "                 epochs=50,\n",
    "                 verbose=1, \n",
    "                 validation_data=(X_test, Y_test))"
   ]
  },
  {
   "cell_type": "code",
   "execution_count": 66,
   "metadata": {},
   "outputs": [
    {
     "name": "stdout",
     "output_type": "stream",
     "text": [
      "10000/10000 [==============================] - 0s 41us/step\n"
     ]
    }
   ],
   "source": [
    "loss_and_metrics = model.evaluate(X_test, Y_test, batch_size=32)"
   ]
  },
  {
   "cell_type": "code",
   "execution_count": 67,
   "metadata": {},
   "outputs": [
    {
     "name": "stdout",
     "output_type": "stream",
     "text": [
      "loss_and_metrics : [0.04022264403497338, 0.991]\n"
     ]
    }
   ],
   "source": [
    "print('loss_and_metrics : ' + str(loss_and_metrics))"
   ]
  },
  {
   "cell_type": "code",
   "execution_count": 68,
   "metadata": {},
   "outputs": [
    {
     "data": {
      "image/png": "[encoded data removed]",
      "text/plain": [
       "<Figure size 432x288 with 1 Axes>"
      ]
     },
     "metadata": {
      "needs_background": "light"
     },
     "output_type": "display_data"
    }
   ],
   "source": [
    "#loss graph 그리기\n",
    "\n",
    "%matplotlib inline\n",
    "import matplotlib.pyplot as plt\n",
    "\n",
    "fig, loss_ax = plt.subplots()\n",
    "\n",
    "loss_ax.plot(hist.history['loss'], 'b', label='train loss')\n",
    "loss_ax.plot(hist.history['val_loss'], 'r', label='test loss')\n",
    "\n",
    "loss_ax.set_xlabel('epoch')\n",
    "loss_ax.set_ylabel('loss')\n",
    "\n",
    "loss_ax.legend(loc='upper right')\n",
    "\n",
    "plt.show()"
   ]
  },
  {
   "cell_type": "code",
   "execution_count": 70,
   "metadata": {},
   "outputs": [],
   "source": [
    "#모델 Export 와 활용\n",
    "from keras.models import load_model\n",
    "model.save('mnist_CNN_model_JYS.h5')"
   ]
  },
  {
   "cell_type": "code",
   "execution_count": 71,
   "metadata": {},
   "outputs": [
    {
     "data": {
      "image/svg+xml": [
       "<svg height=\"626pt\" viewBox=\"0.00 0.00 392.00 626.00\" width=\"392pt\" xmlns=\"http://www.w3.org/2000/svg\" xmlns:xlink=\"http://www.w3.org/1999/xlink\">\n",
       "<g class=\"graph\" id=\"graph0\" transform=\"scale(1 1) rotate(0) translate(4 622)\">\n",
       "<title>G</title>\n",
       "<polygon fill=\"white\" points=\"-4,4 -4,-622 388,-622 388,4 -4,4\" stroke=\"none\"/>\n",
       "<!-- 2128581781152 -->\n",
       "<g class=\"node\" id=\"node1\"><title>2128581781152</title>\n",
       "<polygon fill=\"none\" points=\"41,-498.5 41,-544.5 343,-544.5 343,-498.5 41,-498.5\" stroke=\"black\"/>\n",
       "<text font-family=\"Times New Roman,serif\" font-size=\"14.00\" text-anchor=\"middle\" x=\"104.5\" y=\"-517.8\">conv2d_1: Conv2D</text>\n",
       "<polyline fill=\"none\" points=\"168,-498.5 168,-544.5 \" stroke=\"black\"/>\n",
       "<text font-family=\"Times New Roman,serif\" font-size=\"14.00\" text-anchor=\"middle\" x=\"196\" y=\"-529.3\">input:</text>\n",
       "<polyline fill=\"none\" points=\"168,-521.5 224,-521.5 \" stroke=\"black\"/>\n",
       "<text font-family=\"Times New Roman,serif\" font-size=\"14.00\" text-anchor=\"middle\" x=\"196\" y=\"-506.3\">output:</text>\n",
       "<polyline fill=\"none\" points=\"224,-498.5 224,-544.5 \" stroke=\"black\"/>\n",
       "<text font-family=\"Times New Roman,serif\" font-size=\"14.00\" text-anchor=\"middle\" x=\"283.5\" y=\"-529.3\">(None, 28, 28, 1)</text>\n",
       "<polyline fill=\"none\" points=\"224,-521.5 343,-521.5 \" stroke=\"black\"/>\n",
       "<text font-family=\"Times New Roman,serif\" font-size=\"14.00\" text-anchor=\"middle\" x=\"283.5\" y=\"-506.3\">(None, 28, 28, 32)</text>\n",
       "</g>\n",
       "<!-- 2128510338552 -->\n",
       "<g class=\"node\" id=\"node2\"><title>2128510338552</title>\n",
       "<polygon fill=\"none\" points=\"0,-415.5 0,-461.5 384,-461.5 384,-415.5 0,-415.5\" stroke=\"black\"/>\n",
       "<text font-family=\"Times New Roman,serif\" font-size=\"14.00\" text-anchor=\"middle\" x=\"104.5\" y=\"-434.8\">max_pooling2d_1: MaxPooling2D</text>\n",
       "<polyline fill=\"none\" points=\"209,-415.5 209,-461.5 \" stroke=\"black\"/>\n",
       "<text font-family=\"Times New Roman,serif\" font-size=\"14.00\" text-anchor=\"middle\" x=\"237\" y=\"-446.3\">input:</text>\n",
       "<polyline fill=\"none\" points=\"209,-438.5 265,-438.5 \" stroke=\"black\"/>\n",
       "<text font-family=\"Times New Roman,serif\" font-size=\"14.00\" text-anchor=\"middle\" x=\"237\" y=\"-423.3\">output:</text>\n",
       "<polyline fill=\"none\" points=\"265,-415.5 265,-461.5 \" stroke=\"black\"/>\n",
       "<text font-family=\"Times New Roman,serif\" font-size=\"14.00\" text-anchor=\"middle\" x=\"324.5\" y=\"-446.3\">(None, 28, 28, 32)</text>\n",
       "<polyline fill=\"none\" points=\"265,-438.5 384,-438.5 \" stroke=\"black\"/>\n",
       "<text font-family=\"Times New Roman,serif\" font-size=\"14.00\" text-anchor=\"middle\" x=\"324.5\" y=\"-423.3\">(None, 14, 14, 32)</text>\n",
       "</g>\n",
       "<!-- 2128581781152&#45;&gt;2128510338552 -->\n",
       "<g class=\"edge\" id=\"edge2\"><title>2128581781152-&gt;2128510338552</title>\n",
       "<path d=\"M192,-498.366C192,-490.152 192,-480.658 192,-471.725\" fill=\"none\" stroke=\"black\"/>\n",
       "<polygon fill=\"black\" points=\"195.5,-471.607 192,-461.607 188.5,-471.607 195.5,-471.607\" stroke=\"black\"/>\n",
       "</g>\n",
       "<!-- 2128523905568 -->\n",
       "<g class=\"node\" id=\"node3\"><title>2128523905568</title>\n",
       "<polygon fill=\"none\" points=\"39.5,-332.5 39.5,-378.5 344.5,-378.5 344.5,-332.5 39.5,-332.5\" stroke=\"black\"/>\n",
       "<text font-family=\"Times New Roman,serif\" font-size=\"14.00\" text-anchor=\"middle\" x=\"104.5\" y=\"-351.8\">dropout_1: Dropout</text>\n",
       "<polyline fill=\"none\" points=\"169.5,-332.5 169.5,-378.5 \" stroke=\"black\"/>\n",
       "<text font-family=\"Times New Roman,serif\" font-size=\"14.00\" text-anchor=\"middle\" x=\"197.5\" y=\"-363.3\">input:</text>\n",
       "<polyline fill=\"none\" points=\"169.5,-355.5 225.5,-355.5 \" stroke=\"black\"/>\n",
       "<text font-family=\"Times New Roman,serif\" font-size=\"14.00\" text-anchor=\"middle\" x=\"197.5\" y=\"-340.3\">output:</text>\n",
       "<polyline fill=\"none\" points=\"225.5,-332.5 225.5,-378.5 \" stroke=\"black\"/>\n",
       "<text font-family=\"Times New Roman,serif\" font-size=\"14.00\" text-anchor=\"middle\" x=\"285\" y=\"-363.3\">(None, 14, 14, 32)</text>\n",
       "<polyline fill=\"none\" points=\"225.5,-355.5 344.5,-355.5 \" stroke=\"black\"/>\n",
       "<text font-family=\"Times New Roman,serif\" font-size=\"14.00\" text-anchor=\"middle\" x=\"285\" y=\"-340.3\">(None, 14, 14, 32)</text>\n",
       "</g>\n",
       "<!-- 2128510338552&#45;&gt;2128523905568 -->\n",
       "<g class=\"edge\" id=\"edge3\"><title>2128510338552-&gt;2128523905568</title>\n",
       "<path d=\"M192,-415.366C192,-407.152 192,-397.658 192,-388.725\" fill=\"none\" stroke=\"black\"/>\n",
       "<polygon fill=\"black\" points=\"195.5,-388.607 192,-378.607 188.5,-388.607 195.5,-388.607\" stroke=\"black\"/>\n",
       "</g>\n",
       "<!-- 2128581652152 -->\n",
       "<g class=\"node\" id=\"node4\"><title>2128581652152</title>\n",
       "<polygon fill=\"none\" points=\"50,-249.5 50,-295.5 334,-295.5 334,-249.5 50,-249.5\" stroke=\"black\"/>\n",
       "<text font-family=\"Times New Roman,serif\" font-size=\"14.00\" text-anchor=\"middle\" x=\"104.5\" y=\"-268.8\">flatten_1: Flatten</text>\n",
       "<polyline fill=\"none\" points=\"159,-249.5 159,-295.5 \" stroke=\"black\"/>\n",
       "<text font-family=\"Times New Roman,serif\" font-size=\"14.00\" text-anchor=\"middle\" x=\"187\" y=\"-280.3\">input:</text>\n",
       "<polyline fill=\"none\" points=\"159,-272.5 215,-272.5 \" stroke=\"black\"/>\n",
       "<text font-family=\"Times New Roman,serif\" font-size=\"14.00\" text-anchor=\"middle\" x=\"187\" y=\"-257.3\">output:</text>\n",
       "<polyline fill=\"none\" points=\"215,-249.5 215,-295.5 \" stroke=\"black\"/>\n",
       "<text font-family=\"Times New Roman,serif\" font-size=\"14.00\" text-anchor=\"middle\" x=\"274.5\" y=\"-280.3\">(None, 14, 14, 32)</text>\n",
       "<polyline fill=\"none\" points=\"215,-272.5 334,-272.5 \" stroke=\"black\"/>\n",
       "<text font-family=\"Times New Roman,serif\" font-size=\"14.00\" text-anchor=\"middle\" x=\"274.5\" y=\"-257.3\">(None, 6272)</text>\n",
       "</g>\n",
       "<!-- 2128523905568&#45;&gt;2128581652152 -->\n",
       "<g class=\"edge\" id=\"edge4\"><title>2128523905568-&gt;2128581652152</title>\n",
       "<path d=\"M192,-332.366C192,-324.152 192,-314.658 192,-305.725\" fill=\"none\" stroke=\"black\"/>\n",
       "<polygon fill=\"black\" points=\"195.5,-305.607 192,-295.607 188.5,-305.607 195.5,-305.607\" stroke=\"black\"/>\n",
       "</g>\n",
       "<!-- 2128523691568 -->\n",
       "<g class=\"node\" id=\"node5\"><title>2128523691568</title>\n",
       "<polygon fill=\"none\" points=\"67,-166.5 67,-212.5 317,-212.5 317,-166.5 67,-166.5\" stroke=\"black\"/>\n",
       "<text font-family=\"Times New Roman,serif\" font-size=\"14.00\" text-anchor=\"middle\" x=\"119\" y=\"-185.8\">dense_1: Dense</text>\n",
       "<polyline fill=\"none\" points=\"171,-166.5 171,-212.5 \" stroke=\"black\"/>\n",
       "<text font-family=\"Times New Roman,serif\" font-size=\"14.00\" text-anchor=\"middle\" x=\"199\" y=\"-197.3\">input:</text>\n",
       "<polyline fill=\"none\" points=\"171,-189.5 227,-189.5 \" stroke=\"black\"/>\n",
       "<text font-family=\"Times New Roman,serif\" font-size=\"14.00\" text-anchor=\"middle\" x=\"199\" y=\"-174.3\">output:</text>\n",
       "<polyline fill=\"none\" points=\"227,-166.5 227,-212.5 \" stroke=\"black\"/>\n",
       "<text font-family=\"Times New Roman,serif\" font-size=\"14.00\" text-anchor=\"middle\" x=\"272\" y=\"-197.3\">(None, 6272)</text>\n",
       "<polyline fill=\"none\" points=\"227,-189.5 317,-189.5 \" stroke=\"black\"/>\n",
       "<text font-family=\"Times New Roman,serif\" font-size=\"14.00\" text-anchor=\"middle\" x=\"272\" y=\"-174.3\">(None, 64)</text>\n",
       "</g>\n",
       "<!-- 2128581652152&#45;&gt;2128523691568 -->\n",
       "<g class=\"edge\" id=\"edge5\"><title>2128581652152-&gt;2128523691568</title>\n",
       "<path d=\"M192,-249.366C192,-241.152 192,-231.658 192,-222.725\" fill=\"none\" stroke=\"black\"/>\n",
       "<polygon fill=\"black\" points=\"195.5,-222.607 192,-212.607 188.5,-222.607 195.5,-222.607\" stroke=\"black\"/>\n",
       "</g>\n",
       "<!-- 2128581651760 -->\n",
       "<g class=\"node\" id=\"node6\"><title>2128581651760</title>\n",
       "<polygon fill=\"none\" points=\"60.5,-83.5 60.5,-129.5 323.5,-129.5 323.5,-83.5 60.5,-83.5\" stroke=\"black\"/>\n",
       "<text font-family=\"Times New Roman,serif\" font-size=\"14.00\" text-anchor=\"middle\" x=\"125.5\" y=\"-102.8\">dropout_2: Dropout</text>\n",
       "<polyline fill=\"none\" points=\"190.5,-83.5 190.5,-129.5 \" stroke=\"black\"/>\n",
       "<text font-family=\"Times New Roman,serif\" font-size=\"14.00\" text-anchor=\"middle\" x=\"218.5\" y=\"-114.3\">input:</text>\n",
       "<polyline fill=\"none\" points=\"190.5,-106.5 246.5,-106.5 \" stroke=\"black\"/>\n",
       "<text font-family=\"Times New Roman,serif\" font-size=\"14.00\" text-anchor=\"middle\" x=\"218.5\" y=\"-91.3\">output:</text>\n",
       "<polyline fill=\"none\" points=\"246.5,-83.5 246.5,-129.5 \" stroke=\"black\"/>\n",
       "<text font-family=\"Times New Roman,serif\" font-size=\"14.00\" text-anchor=\"middle\" x=\"285\" y=\"-114.3\">(None, 64)</text>\n",
       "<polyline fill=\"none\" points=\"246.5,-106.5 323.5,-106.5 \" stroke=\"black\"/>\n",
       "<text font-family=\"Times New Roman,serif\" font-size=\"14.00\" text-anchor=\"middle\" x=\"285\" y=\"-91.3\">(None, 64)</text>\n",
       "</g>\n",
       "<!-- 2128523691568&#45;&gt;2128581651760 -->\n",
       "<g class=\"edge\" id=\"edge6\"><title>2128523691568-&gt;2128581651760</title>\n",
       "<path d=\"M192,-166.366C192,-158.152 192,-148.658 192,-139.725\" fill=\"none\" stroke=\"black\"/>\n",
       "<polygon fill=\"black\" points=\"195.5,-139.607 192,-129.607 188.5,-139.607 195.5,-139.607\" stroke=\"black\"/>\n",
       "</g>\n",
       "<!-- 2128582150800 -->\n",
       "<g class=\"node\" id=\"node7\"><title>2128582150800</title>\n",
       "<polygon fill=\"none\" points=\"73.5,-0.5 73.5,-46.5 310.5,-46.5 310.5,-0.5 73.5,-0.5\" stroke=\"black\"/>\n",
       "<text font-family=\"Times New Roman,serif\" font-size=\"14.00\" text-anchor=\"middle\" x=\"125.5\" y=\"-19.8\">dense_2: Dense</text>\n",
       "<polyline fill=\"none\" points=\"177.5,-0.5 177.5,-46.5 \" stroke=\"black\"/>\n",
       "<text font-family=\"Times New Roman,serif\" font-size=\"14.00\" text-anchor=\"middle\" x=\"205.5\" y=\"-31.3\">input:</text>\n",
       "<polyline fill=\"none\" points=\"177.5,-23.5 233.5,-23.5 \" stroke=\"black\"/>\n",
       "<text font-family=\"Times New Roman,serif\" font-size=\"14.00\" text-anchor=\"middle\" x=\"205.5\" y=\"-8.3\">output:</text>\n",
       "<polyline fill=\"none\" points=\"233.5,-0.5 233.5,-46.5 \" stroke=\"black\"/>\n",
       "<text font-family=\"Times New Roman,serif\" font-size=\"14.00\" text-anchor=\"middle\" x=\"272\" y=\"-31.3\">(None, 64)</text>\n",
       "<polyline fill=\"none\" points=\"233.5,-23.5 310.5,-23.5 \" stroke=\"black\"/>\n",
       "<text font-family=\"Times New Roman,serif\" font-size=\"14.00\" text-anchor=\"middle\" x=\"272\" y=\"-8.3\">(None, 10)</text>\n",
       "</g>\n",
       "<!-- 2128581651760&#45;&gt;2128582150800 -->\n",
       "<g class=\"edge\" id=\"edge7\"><title>2128581651760-&gt;2128582150800</title>\n",
       "<path d=\"M192,-83.3664C192,-75.1516 192,-65.6579 192,-56.7252\" fill=\"none\" stroke=\"black\"/>\n",
       "<polygon fill=\"black\" points=\"195.5,-56.6068 192,-46.6068 188.5,-56.6069 195.5,-56.6068\" stroke=\"black\"/>\n",
       "</g>\n",
       "<!-- 2128581781376 -->\n",
       "<g class=\"node\" id=\"node8\"><title>2128581781376</title>\n",
       "<polygon fill=\"none\" points=\"140,-581.5 140,-617.5 244,-617.5 244,-581.5 140,-581.5\" stroke=\"black\"/>\n",
       "<text font-family=\"Times New Roman,serif\" font-size=\"14.00\" text-anchor=\"middle\" x=\"192\" y=\"-595.8\">2128581781376</text>\n",
       "</g>\n",
       "<!-- 2128581781376&#45;&gt;2128581781152 -->\n",
       "<g class=\"edge\" id=\"edge1\"><title>2128581781376-&gt;2128581781152</title>\n",
       "<path d=\"M192,-581.254C192,-573.363 192,-563.749 192,-554.602\" fill=\"none\" stroke=\"black\"/>\n",
       "<polygon fill=\"black\" points=\"195.5,-554.591 192,-544.591 188.5,-554.591 195.5,-554.591\" stroke=\"black\"/>\n",
       "</g>\n",
       "</g>\n",
       "</svg>"
      ],
      "text/plain": [
       "<IPython.core.display.SVG object>"
      ]
     },
     "execution_count": 71,
     "metadata": {},
     "output_type": "execute_result"
    }
   ],
   "source": [
    "from IPython.display import SVG\n",
    "from keras.utils.vis_utils import model_to_dot\n",
    "\n",
    "%matplotlib inline\n",
    "\n",
    "SVG(model_to_dot(model, show_shapes=True).create(prog='dot', format='svg'))"
   ]
  },
  {
   "cell_type": "code",
   "execution_count": null,
   "metadata": {},
   "outputs": [],
   "source": []
  }
 ],
 "metadata": {
  "kernelspec": {
   "display_name": "Python 3",
   "language": "python",
   "name": "python3"
  },
  "language_info": {
   "codemirror_mode": {
    "name": "ipython",
    "version": 3
   },
   "file_extension": ".py",
   "mimetype": "text/x-python",
   "name": "python",
   "nbconvert_exporter": "python",
   "pygments_lexer": "ipython3",
   "version": "3.7.3"
  }
 },
 "nbformat": 4,
 "nbformat_minor": 4
}
